{
 "cells": [
  {
   "cell_type": "code",
   "execution_count": 1,
   "metadata": {
    "collapsed": true
   },
   "outputs": [],
   "source": [
    "#Importar en csv Test 2%\n",
    "import pandas as pd\n",
    "data_test=pd.read_csv('DataTest2%.csv')"
   ]
  },
  {
   "cell_type": "code",
   "execution_count": 2,
   "metadata": {
    "collapsed": true
   },
   "outputs": [],
   "source": [
    "coautores=[]\n",
    "#########################\n",
    "coautor=data_test.Coautor\n",
    "#########################\n",
    "coautor.reset_index(drop=True, inplace=True)\n",
    "for r in coautor:\n",
    "    sep= r.split(',')\n",
    "    m= len(sep)\n",
    "    aux=[]\n",
    "    for i in range(0,m):\n",
    "        if i==m-1:\n",
    "            aux.append(int(sep[i][2:-2]))\n",
    "        else:\n",
    "            aux.append(int(sep[i][2:-1]))\n",
    "    coautores.append(aux)"
   ]
  },
  {
   "cell_type": "code",
   "execution_count": 3,
   "metadata": {},
   "outputs": [
    {
     "data": {
      "text/plain": [
       "3151"
      ]
     },
     "execution_count": 3,
     "metadata": {},
     "output_type": "execute_result"
    }
   ],
   "source": [
    "len(coautores)"
   ]
  },
  {
   "cell_type": "code",
   "execution_count": 27,
   "metadata": {},
   "outputs": [
    {
     "data": {
      "text/plain": [
       "3151"
      ]
     },
     "execution_count": 27,
     "metadata": {},
     "output_type": "execute_result"
    }
   ],
   "source": [
    "#Leer los abstracts del data test\n",
    "#abstract\n",
    "ab=[]\n",
    "############################\n",
    "abstract=data_test.Abstract\n",
    "############################\n",
    "abstract.reset_index(drop=True, inplace=True)\n",
    "\n",
    "for r in abstract:\n",
    "    sep= r.split(',')\n",
    "    m= len(sep)\n",
    "    aux=[]\n",
    "    for i in range(0,m):\n",
    "        if i==m-1:\n",
    "            aux.append(sep[i][2:-2])\n",
    "        else:\n",
    "            aux.append(sep[i][2:-1])\n",
    "    ab.append(aux)\n",
    "len(ab)"
   ]
  },
  {
   "cell_type": "code",
   "execution_count": 28,
   "metadata": {},
   "outputs": [
    {
     "data": {
      "text/plain": [
       "['fluctuations',\n",
       " 'glacier',\n",
       " 'mass',\n",
       " 'volume',\n",
       " 'indicative',\n",
       " 'changes',\n",
       " 'climate',\n",
       " 'system',\n",
       " 'also',\n",
       " 'strongly',\n",
       " 'affect',\n",
       " 'regional',\n",
       " 'climate',\n",
       " 'hydrology',\n",
       " 'explore',\n",
       " 'possible',\n",
       " 'relationships',\n",
       " 'radial',\n",
       " 'growth',\n",
       " 'schrenk',\n",
       " 'spruce',\n",
       " 'picea',\n",
       " 'schrenkiana',\n",
       " 'fisch',\n",
       " 'et',\n",
       " 'mey',\n",
       " 'mass',\n",
       " 'balance',\n",
       " 'tsentralniy',\n",
       " 'tuyuksuyskiy',\n",
       " 'ts',\n",
       " 'tuyuksuyskiy',\n",
       " 'glacier',\n",
       " 'located',\n",
       " 'northern',\n",
       " 'slopes',\n",
       " 'tianshan',\n",
       " 'mountains',\n",
       " 'arid',\n",
       " 'central',\n",
       " 'asia',\n",
       " 'attempt',\n",
       " 'reconstruct',\n",
       " 'historical',\n",
       " 'mass',\n",
       " 'balance',\n",
       " 'variability',\n",
       " 'ts',\n",
       " 'tuyuksuyskiy',\n",
       " 'glacier',\n",
       " 'using',\n",
       " 'tree-ring',\n",
       " 'widths',\n",
       " 'stable',\n",
       " 'carbon',\n",
       " 'isotope',\n",
       " 'chronologies',\n",
       " 'reconstruction',\n",
       " 'able',\n",
       " 'explain',\n",
       " '62.1',\n",
       " 'variance',\n",
       " 'annual',\n",
       " 'glacier',\n",
       " 'mass',\n",
       " 'balance',\n",
       " 'record',\n",
       " '1965–2014',\n",
       " 'calibration',\n",
       " 'period',\n",
       " 'also',\n",
       " 'analyzed',\n",
       " 'centennial',\n",
       " 'mass',\n",
       " 'balance',\n",
       " 'variability',\n",
       " 'linkages',\n",
       " 'climate',\n",
       " 'change',\n",
       " 'ts.tuyuksuyskiy',\n",
       " 'glacier',\n",
       " 'negative',\n",
       " 'annual',\n",
       " 'mass',\n",
       " 'balance',\n",
       " 'years',\n",
       " 'since',\n",
       " '1968',\n",
       " 'undergone',\n",
       " 'rapid',\n",
       " 'longest',\n",
       " 'melting',\n",
       " 'process',\n",
       " 'past',\n",
       " '166',\n",
       " 'years',\n",
       " 'mass',\n",
       " 'balance',\n",
       " 'change',\n",
       " 'glacier',\n",
       " 'controlled',\n",
       " 'combination',\n",
       " 'temperature',\n",
       " 'precipitation',\n",
       " 'conditions',\n",
       " 'study',\n",
       " 'could',\n",
       " 'useful',\n",
       " 'detailed',\n",
       " 'glaciological',\n",
       " 'hydrological',\n",
       " 'climatological',\n",
       " 'assessments',\n",
       " 'portion',\n",
       " 'tianshan',\n",
       " 'mountains',\n",
       " '2018',\n",
       " 'authors']"
      ]
     },
     "execution_count": 28,
     "metadata": {},
     "output_type": "execute_result"
    }
   ],
   "source": [
    "ab[0]"
   ]
  },
  {
   "cell_type": "code",
   "execution_count": 5,
   "metadata": {
    "collapsed": true
   },
   "outputs": [],
   "source": [
    "#Lemmatize Stemming\n",
    "import nltk\n",
    "from nltk.stem import WordNetLemmatizer\n",
    "from nltk.stem.snowball import SnowballStemmer\n",
    "from nltk.tokenize import word_tokenize\n",
    "stemmer = SnowballStemmer(\"english\")\n",
    "lemmatizer = WordNetLemmatizer()"
   ]
  },
  {
   "cell_type": "code",
   "execution_count": 29,
   "metadata": {
    "collapsed": true
   },
   "outputs": [],
   "source": [
    "data_preprocess_1=[]\n",
    "data_preprocess_2=[]\n",
    "\n",
    "for line in ab:\n",
    "    #word_tokens = word_tokenize(tittle)\n",
    "    data=[lemmatizer.lemmatize(t) for t in line]\n",
    "    data_preprocess_1.append(data)\n",
    "    \n",
    "for line in data_preprocess_1:\n",
    "    data=[stemmer.stem(t) for t in line]\n",
    "    data_preprocess_2.append(data)"
   ]
  },
  {
   "cell_type": "code",
   "execution_count": 30,
   "metadata": {},
   "outputs": [
    {
     "data": {
      "text/plain": [
       "3151"
      ]
     },
     "execution_count": 30,
     "metadata": {},
     "output_type": "execute_result"
    }
   ],
   "source": [
    "len(data_preprocess_2)"
   ]
  },
  {
   "cell_type": "code",
   "execution_count": 31,
   "metadata": {},
   "outputs": [
    {
     "data": {
      "text/plain": [
       "['fluctuat',\n",
       " 'glacier',\n",
       " 'mass',\n",
       " 'volum',\n",
       " 'indic',\n",
       " 'chang',\n",
       " 'climat',\n",
       " 'system',\n",
       " 'also',\n",
       " 'strong',\n",
       " 'affect',\n",
       " 'region',\n",
       " 'climat',\n",
       " 'hydrolog',\n",
       " 'explor',\n",
       " 'possibl',\n",
       " 'relationship',\n",
       " 'radial',\n",
       " 'growth',\n",
       " 'schrenk',\n",
       " 'spruce',\n",
       " 'picea',\n",
       " 'schrenkiana',\n",
       " 'fisch',\n",
       " 'et',\n",
       " 'mey',\n",
       " 'mass',\n",
       " 'balanc',\n",
       " 'tsentralniy',\n",
       " 'tuyuksuyskiy',\n",
       " 't',\n",
       " 'tuyuksuyskiy',\n",
       " 'glacier',\n",
       " 'locat',\n",
       " 'northern',\n",
       " 'slope',\n",
       " 'tianshan',\n",
       " 'mountain',\n",
       " 'arid',\n",
       " 'central',\n",
       " 'asia',\n",
       " 'attempt',\n",
       " 'reconstruct',\n",
       " 'histor',\n",
       " 'mass',\n",
       " 'balanc',\n",
       " 'variabl',\n",
       " 't',\n",
       " 'tuyuksuyskiy',\n",
       " 'glacier',\n",
       " 'use',\n",
       " 'tree-r',\n",
       " 'width',\n",
       " 'stabl',\n",
       " 'carbon',\n",
       " 'isotop',\n",
       " 'chronolog',\n",
       " 'reconstruct',\n",
       " 'abl',\n",
       " 'explain',\n",
       " '62.1',\n",
       " 'varianc',\n",
       " 'annual',\n",
       " 'glacier',\n",
       " 'mass',\n",
       " 'balanc',\n",
       " 'record',\n",
       " '1965–2014',\n",
       " 'calibr',\n",
       " 'period',\n",
       " 'also',\n",
       " 'analyz',\n",
       " 'centenni',\n",
       " 'mass',\n",
       " 'balanc',\n",
       " 'variabl',\n",
       " 'linkag',\n",
       " 'climat',\n",
       " 'chang',\n",
       " 'ts.tuyuksuyskiy',\n",
       " 'glacier',\n",
       " 'negat',\n",
       " 'annual',\n",
       " 'mass',\n",
       " 'balanc',\n",
       " 'year',\n",
       " 'sinc',\n",
       " '1968',\n",
       " 'undergon',\n",
       " 'rapid',\n",
       " 'longest',\n",
       " 'melt',\n",
       " 'process',\n",
       " 'past',\n",
       " '166',\n",
       " 'year',\n",
       " 'mass',\n",
       " 'balanc',\n",
       " 'chang',\n",
       " 'glacier',\n",
       " 'control',\n",
       " 'combin',\n",
       " 'temperatur',\n",
       " 'precipit',\n",
       " 'condit',\n",
       " 'studi',\n",
       " 'could',\n",
       " 'use',\n",
       " 'detail',\n",
       " 'glaciolog',\n",
       " 'hydrolog',\n",
       " 'climatolog',\n",
       " 'assess',\n",
       " 'portion',\n",
       " 'tianshan',\n",
       " 'mountain',\n",
       " '2018',\n",
       " 'author']"
      ]
     },
     "execution_count": 31,
     "metadata": {},
     "output_type": "execute_result"
    }
   ],
   "source": [
    "data_preprocess_2[0]"
   ]
  },
  {
   "cell_type": "code",
   "execution_count": 32,
   "metadata": {
    "collapsed": true
   },
   "outputs": [],
   "source": [
    "import gensim\n",
    "import gensim.corpora as corpora\n",
    "from gensim.models import CoherenceModel\n",
    "dictionary = gensim.corpora.Dictionary(data_preprocess_2)\n",
    "#dictionary.filter_extremes(no_below=15, no_above=0.1, keep_n= 100000)\n",
    "bow_corpus = [dictionary.doc2bow(doc) for doc in data_preprocess_2]"
   ]
  },
  {
   "cell_type": "code",
   "execution_count": 33,
   "metadata": {
    "collapsed": true
   },
   "outputs": [],
   "source": [
    "lda_model_abs =  gensim.models.LdaMulticore(bow_corpus, \n",
    "                                   num_topics = 20, \n",
    "                                   id2word = dictionary,                                    \n",
    "                                   passes = 10,\n",
    "                                   workers = 2)"
   ]
  },
  {
   "cell_type": "code",
   "execution_count": 34,
   "metadata": {},
   "outputs": [
    {
     "name": "stdout",
     "output_type": "stream",
     "text": [
      "\n",
      "Coherence Score:  0.4002628034968166\n"
     ]
    }
   ],
   "source": [
    "# Compute Coherence Score\n",
    "coherence_model_lda = CoherenceModel(model=lda_model_abs, texts=data_preprocess_2, dictionary=dictionary, coherence='c_v')\n",
    "coherence_lda = coherence_model_lda.get_coherence()\n",
    "print('\\nCoherence Score: ', coherence_lda)"
   ]
  },
  {
   "cell_type": "code",
   "execution_count": 35,
   "metadata": {},
   "outputs": [
    {
     "data": {
      "text/plain": [
       "[(0,\n",
       "  '0.012*\"studi\" + 0.008*\"use\" + 0.007*\"group\" + 0.006*\"result\" + 0.006*\"2018\" + 0.006*\"treatment\" + 0.006*\"effect\" + 0.005*\"method\" + 0.005*\"differ\" + 0.005*\"signific\"'),\n",
       " (1,\n",
       "  '0.018*\"cell\" + 0.010*\"sigb\" + 0.007*\"rhodomyrton\" + 0.007*\"activ\" + 0.007*\"model\" + 0.007*\"studi\" + 0.007*\"result\" + 0.007*\"2018\" + 0.006*\"membran\" + 0.006*\"coal\"'),\n",
       " (2,\n",
       "  '0.009*\"studi\" + 0.008*\"group\" + 0.008*\"use\" + 0.008*\"effect\" + 0.006*\"show\" + 0.006*\"2018\" + 0.005*\"fear\" + 0.005*\"result\" + 0.005*\"risk\" + 0.004*\"level\"'),\n",
       " (3,\n",
       "  '0.010*\"use\" + 0.007*\"2018\" + 0.006*\"result\" + 0.006*\"system\" + 0.005*\"increas\" + 0.005*\"studi\" + 0.005*\"flow\" + 0.005*\"temperatur\" + 0.005*\"elsevi\" + 0.005*\"effect\"'),\n",
       " (4,\n",
       "  '0.007*\"2018\" + 0.007*\"use\" + 0.006*\"elsevi\" + 0.005*\"s.\" + 0.005*\"effect\" + 0.005*\"phase\" + 0.005*\"acid\" + 0.005*\"differ\" + 0.004*\"heat\" + 0.004*\"result\"'),\n",
       " (5,\n",
       "  '0.013*\"use\" + 0.008*\"effect\" + 0.007*\"studi\" + 0.006*\"2018\" + 0.006*\"result\" + 0.005*\"age\" + 0.005*\"associ\" + 0.005*\"differ\" + 0.005*\"brain\" + 0.005*\"time\"'),\n",
       " (6,\n",
       "  '0.015*\"model\" + 0.010*\"use\" + 0.009*\"develop\" + 0.008*\"system\" + 0.008*\"method\" + 0.007*\"2018\" + 0.006*\"propos\" + 0.006*\"imag\" + 0.006*\"result\" + 0.006*\"analysi\"'),\n",
       " (7,\n",
       "  '0.008*\"use\" + 0.007*\"studi\" + 0.007*\"2018\" + 0.006*\"vaccin\" + 0.006*\"effect\" + 0.005*\"signific\" + 0.005*\"health\" + 0.005*\"age\" + 0.005*\"group\" + 0.005*\"result\"'),\n",
       " (8,\n",
       "  '0.008*\"2018\" + 0.007*\"model\" + 0.007*\"use\" + 0.007*\"elsevi\" + 0.006*\"effect\" + 0.005*\"result\" + 0.005*\"activ\" + 0.005*\"studi\" + 0.005*\"step\" + 0.004*\"remov\"'),\n",
       " (9,\n",
       "  '0.013*\"p\" + 0.012*\"use\" + 0.009*\"result\" + 0.009*\"scale\" + 0.007*\"studi\" + 0.007*\"physic\" + 0.006*\"group\" + 0.006*\"signific\" + 0.006*\"2018\" + 0.006*\"patient\"'),\n",
       " (10,\n",
       "  '0.009*\"activ\" + 0.007*\"2018\" + 0.005*\"use\" + 0.005*\"elsevi\" + 0.005*\"effect\" + 0.005*\"studi\" + 0.005*\"increas\" + 0.004*\"result\" + 0.004*\"show\" + 0.004*\"structur\"'),\n",
       " (11,\n",
       "  '0.008*\"express\" + 0.008*\"cell\" + 0.008*\"effect\" + 0.008*\"studi\" + 0.007*\"use\" + 0.006*\"2018\" + 0.006*\"activ\" + 0.006*\"increas\" + 0.006*\"level\" + 0.004*\"elsevi\"'),\n",
       " (12,\n",
       "  '0.008*\"2018\" + 0.007*\"use\" + 0.007*\"perform\" + 0.007*\"elsevi\" + 0.006*\"activ\" + 0.006*\"high\" + 0.006*\"catalyst\" + 0.006*\"surfac\" + 0.005*\"studi\" + 0.005*\"result\"'),\n",
       " (13,\n",
       "  '0.020*\"cell\" + 0.006*\"2018\" + 0.006*\"signific\" + 0.006*\"effect\" + 0.005*\"express\" + 0.005*\"activ\" + 0.005*\"level\" + 0.005*\"use\" + 0.005*\"studi\" + 0.005*\"elsevi\"'),\n",
       " (14,\n",
       "  '0.008*\"studi\" + 0.008*\"child\" + 0.007*\"result\" + 0.007*\"2018\" + 0.005*\"elsevi\" + 0.005*\"use\" + 0.005*\"effect\" + 0.004*\"method\" + 0.004*\"show\" + 0.004*\"structur\"'),\n",
       " (15,\n",
       "  '0.008*\"model\" + 0.007*\"program\" + 0.007*\"2018\" + 0.007*\"studi\" + 0.007*\"result\" + 0.007*\"effect\" + 0.007*\"use\" + 0.006*\"combin\" + 0.005*\"elsevi\" + 0.004*\"base\"'),\n",
       " (16,\n",
       "  '0.013*\"patient\" + 0.009*\"depress\" + 0.009*\"associ\" + 0.009*\"p\" + 0.008*\"year\" + 0.008*\"disord\" + 0.007*\"clinic\" + 0.007*\"may\" + 0.006*\"2\" + 0.006*\"studi\"'),\n",
       " (17,\n",
       "  '0.011*\"film\" + 0.008*\"use\" + 0.007*\"2018\" + 0.007*\"studi\" + 0.006*\"elsevi\" + 0.005*\"properti\" + 0.004*\"differ\" + 0.004*\"result\" + 0.004*\"increas\" + 0.004*\"gene\"'),\n",
       " (18,\n",
       "  '0.013*\"soil\" + 0.009*\"increas\" + 0.007*\"water\" + 0.007*\"result\" + 0.007*\"studi\" + 0.006*\"use\" + 0.006*\"show\" + 0.006*\"2018\" + 0.006*\"gas\" + 0.005*\"ad\"'),\n",
       " (19,\n",
       "  '0.008*\"studi\" + 0.008*\"result\" + 0.007*\"2018\" + 0.007*\"sampl\" + 0.007*\"use\" + 0.006*\"membran\" + 0.006*\"effect\" + 0.005*\"elsevi\" + 0.005*\"water\" + 0.004*\"food\"')]"
      ]
     },
     "execution_count": 35,
     "metadata": {},
     "output_type": "execute_result"
    }
   ],
   "source": [
    "lda_model_abs.print_topics()"
   ]
  },
  {
   "cell_type": "code",
   "execution_count": 36,
   "metadata": {},
   "outputs": [],
   "source": [
    "#Sacar los topics\n",
    "prueba=[]\n",
    "for r in data_preprocess_2:\n",
    "    vector=dictionary.doc2bow(r)\n",
    "    var=sorted(lda_model_abs[vector], key=lambda tup: -1*tup[1])\n",
    "    resultado=lda_model_abs.print_topic(var[0][0])\n",
    "    sep= resultado.split('\"')\n",
    "    #print (sep)\n",
    "    #m= len(sep)\n",
    "    aux=[]\n",
    "    for i in range(0,8):\n",
    "        if i%2==1:\n",
    "            aux.append(sep[i])\n",
    "    prueba.append(aux)"
   ]
  },
  {
   "cell_type": "code",
   "execution_count": 37,
   "metadata": {},
   "outputs": [
    {
     "data": {
      "text/plain": [
       "3151"
      ]
     },
     "execution_count": 37,
     "metadata": {},
     "output_type": "execute_result"
    }
   ],
   "source": [
    "len (prueba)"
   ]
  },
  {
   "cell_type": "code",
   "execution_count": 38,
   "metadata": {},
   "outputs": [
    {
     "data": {
      "text/plain": [
       "['use', '2018', 'result', 'system']"
      ]
     },
     "execution_count": 38,
     "metadata": {},
     "output_type": "execute_result"
    }
   ],
   "source": [
    "prueba[0]"
   ]
  },
  {
   "cell_type": "code",
   "execution_count": 39,
   "metadata": {
    "collapsed": true
   },
   "outputs": [],
   "source": [
    "def levenshteinDistance(s1, s2):\n",
    "    if len(s1) > len(s2):\n",
    "        s1, s2 = s2, s1\n",
    "\n",
    "    distances = range(len(s1) + 1)\n",
    "    for i2, c2 in enumerate(s2):\n",
    "        distances_ = [i2+1]\n",
    "        for i1, c1 in enumerate(s1):\n",
    "            if c1 == c2:\n",
    "                distances_.append(distances[i1])\n",
    "            else:\n",
    "                distances_.append(1 + min((distances[i1], distances[i1 + 1], distances_[-1])))\n",
    "        distances = distances_\n",
    "    return distances[-1]"
   ]
  },
  {
   "cell_type": "code",
   "execution_count": 40,
   "metadata": {},
   "outputs": [
    {
     "data": {
      "text/plain": [
       "3151"
      ]
     },
     "execution_count": 40,
     "metadata": {},
     "output_type": "execute_result"
    }
   ],
   "source": [
    "abst=[]\n",
    "for r in prueba:\n",
    "    #print(r)\n",
    "    aux=' '.join(r)\n",
    "    abst.append(aux)\n",
    "len(abst) "
   ]
  },
  {
   "cell_type": "code",
   "execution_count": 42,
   "metadata": {},
   "outputs": [
    {
     "data": {
      "text/plain": [
       "'model use develop system'"
      ]
     },
     "execution_count": 42,
     "metadata": {},
     "output_type": "execute_result"
    }
   ],
   "source": [
    "abst[1]"
   ]
  },
  {
   "cell_type": "code",
   "execution_count": 43,
   "metadata": {},
   "outputs": [
    {
     "name": "stdout",
     "output_type": "stream",
     "text": [
      "100\n",
      "200\n",
      "300\n",
      "400\n",
      "500\n",
      "600\n",
      "700\n",
      "800\n",
      "900\n",
      "1000\n",
      "1100\n",
      "1200\n",
      "1300\n",
      "1400\n",
      "1500\n",
      "1600\n",
      "1700\n",
      "1800\n",
      "1900\n",
      "2000\n",
      "2100\n",
      "2200\n",
      "2300\n",
      "2400\n",
      "2500\n",
      "2600\n",
      "2700\n",
      "2800\n",
      "2900\n",
      "3000\n",
      "3100\n"
     ]
    }
   ],
   "source": [
    "import community\n",
    "import networkx as nx\n",
    "import matplotlib.pyplot as plt\n",
    "from collections import Counter\n",
    "#Creación de grafo con peso de titulo\n",
    "g_abs=nx.Graph()\n",
    "ind=0\n",
    "###############################\n",
    "autor=data_test.IdAutor\n",
    "###############################\n",
    "autor.reset_index(drop=True, inplace=True)\n",
    "\n",
    "for node in autor:\n",
    "    g_abs.add_node(node)\n",
    "\n",
    "for edge in coautores:\n",
    "    #counter=Counter(edge)\n",
    "    #dist=levenshteinDistance()\n",
    "    for elem in edge:\n",
    "        encontrado=0\n",
    "        if elem == autor[ind]:\n",
    "            encontrado=0\n",
    "        else:\n",
    "            for a in autor:\n",
    "                if elem== a:\n",
    "                    encontrado=1\n",
    "        if encontrado:\n",
    "            n=0\n",
    "            for item in autor:\n",
    "                if (item==elem):\n",
    "                    indice=n\n",
    "                    break\n",
    "                n+=1\n",
    "            dist=levenshteinDistance(abst[ind],abst[indice])\n",
    "            #Normalizando\n",
    "            if dist==0:\n",
    "                dist==1\n",
    "            else:\n",
    "                dist=1/dist\n",
    "            g_abs.add_edge(autor[ind], elem, weight=dist)\n",
    "    ind+=1\n",
    "    if (ind%100)==0: print (ind)"
   ]
  },
  {
   "cell_type": "code",
   "execution_count": 44,
   "metadata": {},
   "outputs": [
    {
     "name": "stdout",
     "output_type": "stream",
     "text": [
      "Name: \n",
      "Type: Graph\n",
      "Number of nodes: 3151\n",
      "Number of edges: 172\n",
      "Average degree:   0.1092\n"
     ]
    }
   ],
   "source": [
    "print (nx.info(g_abs))"
   ]
  },
  {
   "cell_type": "code",
   "execution_count": 45,
   "metadata": {},
   "outputs": [
    {
     "name": "stdout",
     "output_type": "stream",
     "text": [
      "3147.0\n",
      "0.7445999999999999\n"
     ]
    },
    {
     "data": {
      "image/png": "[encoded data removed]",
      "text/plain": [
       "<matplotlib.figure.Figure at 0x12a41f438>"
      ]
     },
     "metadata": {},
     "output_type": "display_data"
    }
   ],
   "source": [
    "import community\n",
    "import networkx as nx\n",
    "import matplotlib.pyplot as plt\n",
    "\n",
    "G=g_abs\n",
    "#first compute the best partition\n",
    "partition = community.best_partition(G,weight='weight')\n",
    "mod_tittle=community.modularity(partition,G)\n",
    "#drawing\n",
    "size = float(len(set(partition.values())))\n",
    "print(size)\n",
    "print(mod_tittle)\n",
    "pos = nx.spring_layout(G)\n",
    "count = 0.\n",
    "for com in set(partition.values()) :\n",
    "    count = count + 1.\n",
    "    list_nodes = [nodes for nodes in partition.keys()\n",
    "                                if partition[nodes] == com]\n",
    "    nx.draw_networkx_nodes(G, pos, list_nodes, node_size = 20,\n",
    "                                node_color = str(count / size))\n",
    "\n",
    "\n",
    "nx.draw_networkx_edges(G, pos, alpha=0.5)\n",
    "plt.show()"
   ]
  },
  {
   "cell_type": "code",
   "execution_count": null,
   "metadata": {
    "collapsed": true
   },
   "outputs": [],
   "source": []
  }
 ],
 "metadata": {
  "kernelspec": {
   "display_name": "Python 3",
   "language": "python",
   "name": "python3"
  },
  "language_info": {
   "codemirror_mode": {
    "name": "ipython",
    "version": 3
   },
   "file_extension": ".py",
   "mimetype": "text/x-python",
   "name": "python",
   "nbconvert_exporter": "python",
   "pygments_lexer": "ipython3",
   "version": "3.6.3"
  }
 },
 "nbformat": 4,
 "nbformat_minor": 2
}
