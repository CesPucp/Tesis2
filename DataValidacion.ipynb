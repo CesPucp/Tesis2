{
 "cells": [
  {
   "cell_type": "code",
   "execution_count": 1,
   "metadata": {
    "collapsed": true
   },
   "outputs": [],
   "source": [
    "# Importar el csv de publicaciones\n",
    "import pandas as pd\n",
    "#Hugo Alatrista\n",
    "alatrista= pd.read_csv('DataValidacion/Alatrista.csv')\n",
    "teisseire= pd.read_csv('DataValidacion/Teisseire.csv')\n",
    "lossio= pd.read_csv('DataValidacion/LossioVentura.csv')\n",
    "bringay= pd.read_csv('DataValidacion/Bringay.csv')\n",
    "nuñez= pd.read_csv('DataValidacion/Nunez.csv')\n",
    "\n",
    "paz= pd.read_csv('DataValidacion/Paz.csv')\n",
    "powsang= pd.read_csv('DataValidacion/Powsang.csv')\n",
    "asrael= pd.read_csv('DataValidacion/Asrael.csv')\n",
    "moquillaza= pd.read_csv('DataValidacion/Moquillaza.csv')\n",
    "arenas= pd.read_csv('DataValidacion/Arenas.csv')\n",
    "zapata= pd.read_csv('DataValidacion/Zapata.csv')\n",
    "\n",
    "melgar= pd.read_csv('DataValidacion/Melgar.csv')\n",
    "oncevay= pd.read_csv('DataValidacion/Oncevay.csv')\n",
    "beltran= pd.read_csv('DataValidacion/Beltran.csv')\n"
   ]
  },
  {
   "cell_type": "code",
   "execution_count": 2,
   "metadata": {
    "collapsed": true
   },
   "outputs": [],
   "source": [
    "#Añadir campo de area y maco area\n",
    "alatrista.insert(8,'Area','ENGI')\n",
    "teisseire.insert(8,'Area','ENGI')\n",
    "lossio.insert(8,'Area','ENGI')\n",
    "bringay.insert(8,'Area','ENGI')\n",
    "nuñez.insert(8,'Area','ENGI')\n",
    "paz.insert(8,'Area','ENGI')\n",
    "powsang.insert(8,'Area','ENGI')\n",
    "asrael.insert(8,'Area','ENGI')\n",
    "moquillaza.insert(8,'Area','ENGI')\n",
    "arenas.insert(8,'Area','ENGI')\n",
    "zapata.insert(8,'Area','ENGI')\n",
    "melgar.insert(8,'Area','ENGI')\n",
    "oncevay.insert(8,'Area','ENGI')\n",
    "beltran.insert(8,'Area','ENGI')\n",
    "\n",
    "alatrista.insert(9,'MacroArea','PHYSICAL')\n",
    "teisseire.insert(9,'MacroArea','PHYSICAL')\n",
    "lossio.insert(9,'MacroArea','PHYSICAL')\n",
    "bringay.insert(9,'MacroArea','PHYSICAL')\n",
    "nuñez.insert(9,'MacroArea','PHYSICAL')\n",
    "paz.insert(9,'MacroArea','PHYSICAL')\n",
    "powsang.insert(9,'MacroArea','PHYSICAL')\n",
    "asrael.insert(9,'MacroArea','PHYSICAL')\n",
    "moquillaza.insert(9,'MacroArea','PHYSICAL')\n",
    "arenas.insert(9,'MacroArea','PHYSICAL')\n",
    "zapata.insert(9,'MacroArea','PHYSICAL')\n",
    "melgar.insert(9,'MacroArea','PHYSICAL')\n",
    "oncevay.insert(9,'MacroArea','PHYSICAL')\n",
    "beltran.insert(9,'MacroArea','PHYSICAL')\n"
   ]
  },
  {
   "cell_type": "code",
   "execution_count": 3,
   "metadata": {},
   "outputs": [
    {
     "data": {
      "text/html": [
       "<div>\n",
       "<style>\n",
       "    .dataframe thead tr:only-child th {\n",
       "        text-align: right;\n",
       "    }\n",
       "\n",
       "    .dataframe thead th {\n",
       "        text-align: left;\n",
       "    }\n",
       "\n",
       "    .dataframe tbody tr th {\n",
       "        vertical-align: top;\n",
       "    }\n",
       "</style>\n",
       "<table border=\"1\" class=\"dataframe\">\n",
       "  <thead>\n",
       "    <tr style=\"text-align: right;\">\n",
       "      <th></th>\n",
       "      <th>Authors</th>\n",
       "      <th>Author(s) ID</th>\n",
       "      <th>Title</th>\n",
       "      <th>Link</th>\n",
       "      <th>Abstract</th>\n",
       "      <th>Author Keywords</th>\n",
       "      <th>Index Keywords</th>\n",
       "      <th>EID</th>\n",
       "      <th>Area</th>\n",
       "      <th>MacroArea</th>\n",
       "    </tr>\n",
       "  </thead>\n",
       "  <tbody>\n",
       "    <tr>\n",
       "      <th>0</th>\n",
       "      <td>Puenternan Fernández W., Beltrán Castañón C.A.</td>\n",
       "      <td>57207989982;55602499700;</td>\n",
       "      <td>A mixed model based on shape context and spark...</td>\n",
       "      <td>https://www.scopus.com/inward/record.uri?eid=2...</td>\n",
       "      <td>Nowadays, information is not limited to textua...</td>\n",
       "      <td>Bag-of-features; SBIR; Shape context; Spark fe...</td>\n",
       "      <td>NaN</td>\n",
       "      <td>2-s2.0-85063465501</td>\n",
       "      <td>ENGI</td>\n",
       "      <td>PHYSICAL</td>\n",
       "    </tr>\n",
       "    <tr>\n",
       "      <th>1</th>\n",
       "      <td>Zambrano C.E.P., Caceres J.C.G., Ticona J.R., ...</td>\n",
       "      <td>57204878028;57193952376;57204878568;5720487959...</td>\n",
       "      <td>An enhanced algorithmic approach for automatic...</td>\n",
       "      <td>https://www.scopus.com/inward/record.uri?eid=2...</td>\n",
       "      <td>Classification green coffee beans is one of th...</td>\n",
       "      <td>Coffee beans defects; Computer vision; Grading...</td>\n",
       "      <td>Computer hardware; Computer vision; Defects; G...</td>\n",
       "      <td>2-s2.0-85057617053</td>\n",
       "      <td>ENGI</td>\n",
       "      <td>PHYSICAL</td>\n",
       "    </tr>\n",
       "    <tr>\n",
       "      <th>2</th>\n",
       "      <td>Portugal-Zambrano C.E., Gutierrez-Caceres J.C....</td>\n",
       "      <td>54881238400;56369686000;57193435938;55602499700;</td>\n",
       "      <td>Computer vision grading system for physical qu...</td>\n",
       "      <td>https://www.scopus.com/inward/record.uri?eid=2...</td>\n",
       "      <td>Evaluating the physical defects of green coffe...</td>\n",
       "      <td>coffee beans defects; Grade System; Histogram;...</td>\n",
       "      <td>Classification (of information); Computer hard...</td>\n",
       "      <td>2-s2.0-85013941924</td>\n",
       "      <td>ENGI</td>\n",
       "      <td>PHYSICAL</td>\n",
       "    </tr>\n",
       "    <tr>\n",
       "      <th>3</th>\n",
       "      <td>Castañón C.B., Nyström I., Famili F.</td>\n",
       "      <td>55602499700;6701460799;57105294100;</td>\n",
       "      <td>Preface</td>\n",
       "      <td>https://www.scopus.com/inward/record.uri?eid=2...</td>\n",
       "      <td>[No abstract available]</td>\n",
       "      <td>NaN</td>\n",
       "      <td>NaN</td>\n",
       "      <td>2-s2.0-85013421294</td>\n",
       "      <td>ENGI</td>\n",
       "      <td>PHYSICAL</td>\n",
       "    </tr>\n",
       "    <tr>\n",
       "      <th>4</th>\n",
       "      <td>Flores-Quispe R., Velazco-Paredes Y., Escarcin...</td>\n",
       "      <td>55602717500;55602391500;54960955000;55602499700;</td>\n",
       "      <td>Automatic Identification of Human Parasite Egg...</td>\n",
       "      <td>https://www.scopus.com/inward/record.uri?eid=2...</td>\n",
       "      <td>In order to identify the parasitic diseases, t...</td>\n",
       "      <td>CBIR; Human Parasite Eggs; Multitexton Histogr...</td>\n",
       "      <td>Automation; Feature extraction; Ascaris; Autom...</td>\n",
       "      <td>2-s2.0-84989810751</td>\n",
       "      <td>ENGI</td>\n",
       "      <td>PHYSICAL</td>\n",
       "    </tr>\n",
       "  </tbody>\n",
       "</table>\n",
       "</div>"
      ],
      "text/plain": [
       "                                             Authors  \\\n",
       "0     Puenternan Fernández W., Beltrán Castañón C.A.   \n",
       "1  Zambrano C.E.P., Caceres J.C.G., Ticona J.R., ...   \n",
       "2  Portugal-Zambrano C.E., Gutierrez-Caceres J.C....   \n",
       "3               Castañón C.B., Nyström I., Famili F.   \n",
       "4  Flores-Quispe R., Velazco-Paredes Y., Escarcin...   \n",
       "\n",
       "                                        Author(s) ID  \\\n",
       "0                           57207989982;55602499700;   \n",
       "1  57204878028;57193952376;57204878568;5720487959...   \n",
       "2   54881238400;56369686000;57193435938;55602499700;   \n",
       "3                55602499700;6701460799;57105294100;   \n",
       "4   55602717500;55602391500;54960955000;55602499700;   \n",
       "\n",
       "                                               Title  \\\n",
       "0  A mixed model based on shape context and spark...   \n",
       "1  An enhanced algorithmic approach for automatic...   \n",
       "2  Computer vision grading system for physical qu...   \n",
       "3                                            Preface   \n",
       "4  Automatic Identification of Human Parasite Egg...   \n",
       "\n",
       "                                                Link  \\\n",
       "0  https://www.scopus.com/inward/record.uri?eid=2...   \n",
       "1  https://www.scopus.com/inward/record.uri?eid=2...   \n",
       "2  https://www.scopus.com/inward/record.uri?eid=2...   \n",
       "3  https://www.scopus.com/inward/record.uri?eid=2...   \n",
       "4  https://www.scopus.com/inward/record.uri?eid=2...   \n",
       "\n",
       "                                            Abstract  \\\n",
       "0  Nowadays, information is not limited to textua...   \n",
       "1  Classification green coffee beans is one of th...   \n",
       "2  Evaluating the physical defects of green coffe...   \n",
       "3                            [No abstract available]   \n",
       "4  In order to identify the parasitic diseases, t...   \n",
       "\n",
       "                                     Author Keywords  \\\n",
       "0  Bag-of-features; SBIR; Shape context; Spark fe...   \n",
       "1  Coffee beans defects; Computer vision; Grading...   \n",
       "2  coffee beans defects; Grade System; Histogram;...   \n",
       "3                                                NaN   \n",
       "4  CBIR; Human Parasite Eggs; Multitexton Histogr...   \n",
       "\n",
       "                                      Index Keywords                 EID  \\\n",
       "0                                                NaN  2-s2.0-85063465501   \n",
       "1  Computer hardware; Computer vision; Defects; G...  2-s2.0-85057617053   \n",
       "2  Classification (of information); Computer hard...  2-s2.0-85013941924   \n",
       "3                                                NaN  2-s2.0-85013421294   \n",
       "4  Automation; Feature extraction; Ascaris; Autom...  2-s2.0-84989810751   \n",
       "\n",
       "   Area MacroArea  \n",
       "0  ENGI  PHYSICAL  \n",
       "1  ENGI  PHYSICAL  \n",
       "2  ENGI  PHYSICAL  \n",
       "3  ENGI  PHYSICAL  \n",
       "4  ENGI  PHYSICAL  "
      ]
     },
     "execution_count": 3,
     "metadata": {},
     "output_type": "execute_result"
    }
   ],
   "source": [
    "beltran.head()"
   ]
  },
  {
   "cell_type": "code",
   "execution_count": 4,
   "metadata": {
    "collapsed": true
   },
   "outputs": [],
   "source": [
    "#Concatenar los csv \n",
    "c=[alatrista,teisseire,lossio,bringay,nuñez,paz,powsang,asrael,moquillaza,arenas,zapata,melgar,oncevay,beltran]\n",
    "df = pd.concat( c, axis = 0, ignore_index = True)"
   ]
  },
  {
   "cell_type": "code",
   "execution_count": 5,
   "metadata": {
    "collapsed": true
   },
   "outputs": [],
   "source": [
    "#Renombrar los titulos (quitando espacios)\n",
    "df.rename(columns={'Author(s) ID':'AuthorsID','Author Keywords':'AuthorsKeywords','Index Keywords':'IndexKeywords'}, inplace=True)"
   ]
  },
  {
   "cell_type": "code",
   "execution_count": 6,
   "metadata": {},
   "outputs": [
    {
     "data": {
      "text/plain": [
       "(447, 10)"
      ]
     },
     "execution_count": 6,
     "metadata": {},
     "output_type": "execute_result"
    }
   ],
   "source": [
    "df.shape"
   ]
  },
  {
   "cell_type": "code",
   "execution_count": 7,
   "metadata": {
    "collapsed": true
   },
   "outputs": [],
   "source": [
    "#filtro de vacios de autores\n",
    "c_df=df[df.Authors!='[No author name available]']\n",
    "cl_df=c_df[c_df.Authors.notnull()]\n",
    "cle_df=cl_df[cl_df.AuthorsID.notnull()]\n",
    "#filtro de vacios de abstracts\n",
    "clea_df=cle_df[cle_df.Abstract!='[No abstract available]']\n",
    "#filtro de los titulos\n",
    "clex_df=clea_df[clea_df.Title.notnull()]\n",
    "cley_df=clex_df[clex_df.Title!='Preface']\n",
    "#filtro de vacios en keywords\n",
    "clean_df=cley_df[cley_df.AuthorsKeywords.notnull()]"
   ]
  },
  {
   "cell_type": "code",
   "execution_count": 8,
   "metadata": {},
   "outputs": [
    {
     "data": {
      "text/plain": [
       "(307, 10)"
      ]
     },
     "execution_count": 8,
     "metadata": {},
     "output_type": "execute_result"
    }
   ],
   "source": [
    "clean_df.shape"
   ]
  },
  {
   "cell_type": "code",
   "execution_count": 9,
   "metadata": {
    "collapsed": true
   },
   "outputs": [],
   "source": [
    "#Reordenar el index\n",
    "clean_df.reset_index(drop=True, inplace=True)"
   ]
  },
  {
   "cell_type": "code",
   "execution_count": 10,
   "metadata": {},
   "outputs": [
    {
     "data": {
      "text/html": [
       "<div>\n",
       "<style>\n",
       "    .dataframe thead tr:only-child th {\n",
       "        text-align: right;\n",
       "    }\n",
       "\n",
       "    .dataframe thead th {\n",
       "        text-align: left;\n",
       "    }\n",
       "\n",
       "    .dataframe tbody tr th {\n",
       "        vertical-align: top;\n",
       "    }\n",
       "</style>\n",
       "<table border=\"1\" class=\"dataframe\">\n",
       "  <thead>\n",
       "    <tr style=\"text-align: right;\">\n",
       "      <th></th>\n",
       "      <th>Authors</th>\n",
       "      <th>AuthorsID</th>\n",
       "      <th>Title</th>\n",
       "      <th>Link</th>\n",
       "      <th>Abstract</th>\n",
       "      <th>AuthorsKeywords</th>\n",
       "      <th>IndexKeywords</th>\n",
       "      <th>EID</th>\n",
       "      <th>Area</th>\n",
       "      <th>MacroArea</th>\n",
       "    </tr>\n",
       "  </thead>\n",
       "  <tbody>\n",
       "    <tr>\n",
       "      <th>0</th>\n",
       "      <td>Alatrista-Salas H., Morzán-Samamé J., Nunez-de...</td>\n",
       "      <td>36970459100;57207793166;57192393631;</td>\n",
       "      <td>Crime alert! crime typification in news based ...</td>\n",
       "      <td>https://www.scopus.com/inward/record.uri?eid=2...</td>\n",
       "      <td>In this paper we detailed a multinomial classi...</td>\n",
       "      <td>Classification; Crime analysis; Text mining; W...</td>\n",
       "      <td>NaN</td>\n",
       "      <td>2-s2.0-85062905236</td>\n",
       "      <td>ENGI</td>\n",
       "      <td>PHYSICAL</td>\n",
       "    </tr>\n",
       "    <tr>\n",
       "      <th>1</th>\n",
       "      <td>Alatrista-Salas H., Hidalgo-Leon P., Nunez-Del...</td>\n",
       "      <td>36970459100;57205581349;57192393631;</td>\n",
       "      <td>Documents Retrieval for Qualitative Research: ...</td>\n",
       "      <td>https://www.scopus.com/inward/record.uri?eid=2...</td>\n",
       "      <td>Gender discrimination is an act of exclusion o...</td>\n",
       "      <td>Data mining; Discrimination; Document retrieva...</td>\n",
       "      <td>Artificial intelligence; Data mining; Semantic...</td>\n",
       "      <td>2-s2.0-85060650571</td>\n",
       "      <td>ENGI</td>\n",
       "      <td>PHYSICAL</td>\n",
       "    </tr>\n",
       "    <tr>\n",
       "      <th>2</th>\n",
       "      <td>Alatrista-Salas H., Nunez-Del-Prado M.</td>\n",
       "      <td>36970459100;57192393631;</td>\n",
       "      <td>Teaching software engineering through computer...</td>\n",
       "      <td>https://www.scopus.com/inward/record.uri?eid=2...</td>\n",
       "      <td>Software Engineering course has become very im...</td>\n",
       "      <td>Computer games; Object-Oriented; Software Engi...</td>\n",
       "      <td>Computer games; Computer software; Object orie...</td>\n",
       "      <td>2-s2.0-85053882370</td>\n",
       "      <td>ENGI</td>\n",
       "      <td>PHYSICAL</td>\n",
       "    </tr>\n",
       "    <tr>\n",
       "      <th>3</th>\n",
       "      <td>Alatrista-Salas H., Esposito B., Nunez-Del-Pra...</td>\n",
       "      <td>36970459100;57200273045;57192393631;57203089930;</td>\n",
       "      <td>Measuring the gender discrimination: A machine...</td>\n",
       "      <td>https://www.scopus.com/inward/record.uri?eid=2...</td>\n",
       "      <td>Gender discrimination is a widely analyzed pro...</td>\n",
       "      <td>clustering; Data Mining; Expectation Maximizat...</td>\n",
       "      <td>Artificial intelligence; Data mining; Learning...</td>\n",
       "      <td>2-s2.0-85050469221</td>\n",
       "      <td>ENGI</td>\n",
       "      <td>PHYSICAL</td>\n",
       "    </tr>\n",
       "    <tr>\n",
       "      <th>4</th>\n",
       "      <td>Núñez-Del-Prado-Cortez M., Alatrista-Salas H.</td>\n",
       "      <td>57192388537;36970459100;</td>\n",
       "      <td>Administrative Regions Discovery Based on Huma...</td>\n",
       "      <td>https://www.scopus.com/inward/record.uri?eid=2...</td>\n",
       "      <td>Currently, the understanding of the human mobi...</td>\n",
       "      <td>Administrative region; Clustering; Mobility Ma...</td>\n",
       "      <td>Markov processes; Administrative region; Call ...</td>\n",
       "      <td>2-s2.0-85013237601</td>\n",
       "      <td>ENGI</td>\n",
       "      <td>PHYSICAL</td>\n",
       "    </tr>\n",
       "  </tbody>\n",
       "</table>\n",
       "</div>"
      ],
      "text/plain": [
       "                                             Authors  \\\n",
       "0  Alatrista-Salas H., Morzán-Samamé J., Nunez-de...   \n",
       "1  Alatrista-Salas H., Hidalgo-Leon P., Nunez-Del...   \n",
       "2             Alatrista-Salas H., Nunez-Del-Prado M.   \n",
       "3  Alatrista-Salas H., Esposito B., Nunez-Del-Pra...   \n",
       "4      Núñez-Del-Prado-Cortez M., Alatrista-Salas H.   \n",
       "\n",
       "                                          AuthorsID  \\\n",
       "0              36970459100;57207793166;57192393631;   \n",
       "1              36970459100;57205581349;57192393631;   \n",
       "2                          36970459100;57192393631;   \n",
       "3  36970459100;57200273045;57192393631;57203089930;   \n",
       "4                          57192388537;36970459100;   \n",
       "\n",
       "                                               Title  \\\n",
       "0  Crime alert! crime typification in news based ...   \n",
       "1  Documents Retrieval for Qualitative Research: ...   \n",
       "2  Teaching software engineering through computer...   \n",
       "3  Measuring the gender discrimination: A machine...   \n",
       "4  Administrative Regions Discovery Based on Huma...   \n",
       "\n",
       "                                                Link  \\\n",
       "0  https://www.scopus.com/inward/record.uri?eid=2...   \n",
       "1  https://www.scopus.com/inward/record.uri?eid=2...   \n",
       "2  https://www.scopus.com/inward/record.uri?eid=2...   \n",
       "3  https://www.scopus.com/inward/record.uri?eid=2...   \n",
       "4  https://www.scopus.com/inward/record.uri?eid=2...   \n",
       "\n",
       "                                            Abstract  \\\n",
       "0  In this paper we detailed a multinomial classi...   \n",
       "1  Gender discrimination is an act of exclusion o...   \n",
       "2  Software Engineering course has become very im...   \n",
       "3  Gender discrimination is a widely analyzed pro...   \n",
       "4  Currently, the understanding of the human mobi...   \n",
       "\n",
       "                                     AuthorsKeywords  \\\n",
       "0  Classification; Crime analysis; Text mining; W...   \n",
       "1  Data mining; Discrimination; Document retrieva...   \n",
       "2  Computer games; Object-Oriented; Software Engi...   \n",
       "3  clustering; Data Mining; Expectation Maximizat...   \n",
       "4  Administrative region; Clustering; Mobility Ma...   \n",
       "\n",
       "                                       IndexKeywords                 EID  \\\n",
       "0                                                NaN  2-s2.0-85062905236   \n",
       "1  Artificial intelligence; Data mining; Semantic...  2-s2.0-85060650571   \n",
       "2  Computer games; Computer software; Object orie...  2-s2.0-85053882370   \n",
       "3  Artificial intelligence; Data mining; Learning...  2-s2.0-85050469221   \n",
       "4  Markov processes; Administrative region; Call ...  2-s2.0-85013237601   \n",
       "\n",
       "   Area MacroArea  \n",
       "0  ENGI  PHYSICAL  \n",
       "1  ENGI  PHYSICAL  \n",
       "2  ENGI  PHYSICAL  \n",
       "3  ENGI  PHYSICAL  \n",
       "4  ENGI  PHYSICAL  "
      ]
     },
     "execution_count": 10,
     "metadata": {},
     "output_type": "execute_result"
    }
   ],
   "source": [
    "clean_df.head()"
   ]
  },
  {
   "cell_type": "code",
   "execution_count": 11,
   "metadata": {},
   "outputs": [
    {
     "data": {
      "text/plain": [
       "Counter({'2-s2.0-0037845220': 1,\n",
       "         '2-s2.0-33646432209': 1,\n",
       "         '2-s2.0-33750575596': 1,\n",
       "         '2-s2.0-33846965592': 1,\n",
       "         '2-s2.0-33947724265': 1,\n",
       "         '2-s2.0-34247571646': 1,\n",
       "         '2-s2.0-34547632533': 1,\n",
       "         '2-s2.0-34547635959': 1,\n",
       "         '2-s2.0-35548965139': 1,\n",
       "         '2-s2.0-37249006903': 1,\n",
       "         '2-s2.0-37249073911': 1,\n",
       "         '2-s2.0-37649006880': 1,\n",
       "         '2-s2.0-39049196176': 1,\n",
       "         '2-s2.0-46249112962': 1,\n",
       "         '2-s2.0-56749180709': 1,\n",
       "         '2-s2.0-58049102674': 1,\n",
       "         '2-s2.0-67349254124': 1,\n",
       "         '2-s2.0-67649233624': 1,\n",
       "         '2-s2.0-69749100655': 1,\n",
       "         '2-s2.0-70449654668': 2,\n",
       "         '2-s2.0-71049152823': 1,\n",
       "         '2-s2.0-72249087837': 2,\n",
       "         '2-s2.0-73349136270': 1,\n",
       "         '2-s2.0-76249120356': 1,\n",
       "         '2-s2.0-77649277056': 1,\n",
       "         '2-s2.0-77951585152': 1,\n",
       "         '2-s2.0-77951596417': 1,\n",
       "         '2-s2.0-77952227543': 1,\n",
       "         '2-s2.0-77952717975': 1,\n",
       "         '2-s2.0-77955640556': 1,\n",
       "         '2-s2.0-77957814241': 1,\n",
       "         '2-s2.0-78049365268': 1,\n",
       "         '2-s2.0-78649504567': 2,\n",
       "         '2-s2.0-78650940740': 1,\n",
       "         '2-s2.0-78651102869': 1,\n",
       "         '2-s2.0-78651511219': 1,\n",
       "         '2-s2.0-79951581671': 1,\n",
       "         '2-s2.0-79951761086': 1,\n",
       "         '2-s2.0-79952830021': 1,\n",
       "         '2-s2.0-79959680822': 1,\n",
       "         '2-s2.0-80052118072': 1,\n",
       "         '2-s2.0-80052902986': 2,\n",
       "         '2-s2.0-83055187008': 2,\n",
       "         '2-s2.0-83755161355': 1,\n",
       "         '2-s2.0-83755190246': 2,\n",
       "         '2-s2.0-84855521782': 1,\n",
       "         '2-s2.0-84861052080': 1,\n",
       "         '2-s2.0-84863571105': 1,\n",
       "         '2-s2.0-84864570112': 1,\n",
       "         '2-s2.0-84868032357': 1,\n",
       "         '2-s2.0-84868146529': 2,\n",
       "         '2-s2.0-84869852391': 1,\n",
       "         '2-s2.0-84872000011': 1,\n",
       "         '2-s2.0-84872706115': 1,\n",
       "         '2-s2.0-84872769265': 1,\n",
       "         '2-s2.0-84874153854': 1,\n",
       "         '2-s2.0-84874178232': 1,\n",
       "         '2-s2.0-84875823923': 1,\n",
       "         '2-s2.0-84879739313': 2,\n",
       "         '2-s2.0-84884599900': 2,\n",
       "         '2-s2.0-84884616220': 1,\n",
       "         '2-s2.0-84884819993': 1,\n",
       "         '2-s2.0-84886656759': 2,\n",
       "         '2-s2.0-84887116688': 2,\n",
       "         '2-s2.0-84888369411': 1,\n",
       "         '2-s2.0-84893455515': 1,\n",
       "         '2-s2.0-84893622041': 1,\n",
       "         '2-s2.0-84893691011': 1,\n",
       "         '2-s2.0-84894119497': 1,\n",
       "         '2-s2.0-84894261318': 1,\n",
       "         '2-s2.0-84898771039': 1,\n",
       "         '2-s2.0-84902436910': 1,\n",
       "         '2-s2.0-84903458686': 3,\n",
       "         '2-s2.0-84903597671': 2,\n",
       "         '2-s2.0-84904995664': 1,\n",
       "         '2-s2.0-84905842672': 1,\n",
       "         '2-s2.0-84906330342': 1,\n",
       "         '2-s2.0-84906820567': 2,\n",
       "         '2-s2.0-84907380499': 1,\n",
       "         '2-s2.0-84907833434': 3,\n",
       "         '2-s2.0-84908329727': 2,\n",
       "         '2-s2.0-84910679291': 1,\n",
       "         '2-s2.0-84911385566': 1,\n",
       "         '2-s2.0-84911418485': 1,\n",
       "         '2-s2.0-84911451912': 1,\n",
       "         '2-s2.0-84911898839': 1,\n",
       "         '2-s2.0-84919431178': 1,\n",
       "         '2-s2.0-84919460692': 1,\n",
       "         '2-s2.0-84919651307': 2,\n",
       "         '2-s2.0-84921768535': 1,\n",
       "         '2-s2.0-84922894956': 1,\n",
       "         '2-s2.0-84928060280': 1,\n",
       "         '2-s2.0-84928911039': 1,\n",
       "         '2-s2.0-84929494028': 2,\n",
       "         '2-s2.0-84929505405': 1,\n",
       "         '2-s2.0-84930538726': 2,\n",
       "         '2-s2.0-84936818065': 3,\n",
       "         '2-s2.0-84937458839': 1,\n",
       "         '2-s2.0-84937856045': 1,\n",
       "         '2-s2.0-84939574642': 3,\n",
       "         '2-s2.0-84942323977': 2,\n",
       "         '2-s2.0-84944463418': 1,\n",
       "         '2-s2.0-84945968478': 2,\n",
       "         '2-s2.0-84946710800': 1,\n",
       "         '2-s2.0-84947219639': 3,\n",
       "         '2-s2.0-84947220733': 1,\n",
       "         '2-s2.0-84949133455': 1,\n",
       "         '2-s2.0-84949894864': 1,\n",
       "         '2-s2.0-84951948558': 1,\n",
       "         '2-s2.0-84952033607': 1,\n",
       "         '2-s2.0-84954116180': 1,\n",
       "         '2-s2.0-84955591734': 1,\n",
       "         '2-s2.0-84956658909': 2,\n",
       "         '2-s2.0-84957620546': 2,\n",
       "         '2-s2.0-84958524755': 1,\n",
       "         '2-s2.0-84958531952': 1,\n",
       "         '2-s2.0-84958534162': 1,\n",
       "         '2-s2.0-84960909915': 2,\n",
       "         '2-s2.0-84960960749': 3,\n",
       "         '2-s2.0-84961170523': 1,\n",
       "         '2-s2.0-84961304134': 1,\n",
       "         '2-s2.0-84961878417': 1,\n",
       "         '2-s2.0-84961878454': 1,\n",
       "         '2-s2.0-84962664112': 2,\n",
       "         '2-s2.0-84962689305': 3,\n",
       "         '2-s2.0-84964790192': 1,\n",
       "         '2-s2.0-84964816250': 2,\n",
       "         '2-s2.0-84965133730': 2,\n",
       "         '2-s2.0-84969718892': 1,\n",
       "         '2-s2.0-84969752989': 1,\n",
       "         '2-s2.0-84974695672': 1,\n",
       "         '2-s2.0-84975458772': 1,\n",
       "         '2-s2.0-84975472216': 1,\n",
       "         '2-s2.0-84975819733': 1,\n",
       "         '2-s2.0-84977560121': 3,\n",
       "         '2-s2.0-84977580499': 1,\n",
       "         '2-s2.0-84979977758': 1,\n",
       "         '2-s2.0-84982151614': 1,\n",
       "         '2-s2.0-84982166371': 1,\n",
       "         '2-s2.0-84982182558': 1,\n",
       "         '2-s2.0-84983110938': 1,\n",
       "         '2-s2.0-84983119448': 2,\n",
       "         '2-s2.0-84983185848': 1,\n",
       "         '2-s2.0-84984635999': 1,\n",
       "         '2-s2.0-84986320281': 3,\n",
       "         '2-s2.0-84988385372': 1,\n",
       "         '2-s2.0-84989810751': 1,\n",
       "         '2-s2.0-84992671989': 1,\n",
       "         '2-s2.0-84994672082': 1,\n",
       "         '2-s2.0-85009818524': 1,\n",
       "         '2-s2.0-85010680115': 1,\n",
       "         '2-s2.0-85013237601': 1,\n",
       "         '2-s2.0-85013907115': 1,\n",
       "         '2-s2.0-85013941924': 1,\n",
       "         '2-s2.0-85015226237': 1,\n",
       "         '2-s2.0-85015453064': 1,\n",
       "         '2-s2.0-85016194109': 1,\n",
       "         '2-s2.0-85019994885': 1,\n",
       "         '2-s2.0-85019995755': 1,\n",
       "         '2-s2.0-85020033157': 1,\n",
       "         '2-s2.0-85020043855': 1,\n",
       "         '2-s2.0-85020045629': 1,\n",
       "         '2-s2.0-85025121711': 2,\n",
       "         '2-s2.0-85025134558': 1,\n",
       "         '2-s2.0-85025150175': 1,\n",
       "         '2-s2.0-85025154526': 3,\n",
       "         '2-s2.0-85025172909': 2,\n",
       "         '2-s2.0-85025174736': 2,\n",
       "         '2-s2.0-85028645758': 2,\n",
       "         '2-s2.0-85028910209': 1,\n",
       "         '2-s2.0-85031410813': 1,\n",
       "         '2-s2.0-85033432256': 2,\n",
       "         '2-s2.0-85036471348': 1,\n",
       "         '2-s2.0-85036510457': 1,\n",
       "         '2-s2.0-85037135211': 2,\n",
       "         '2-s2.0-85039912551': 1,\n",
       "         '2-s2.0-85040223939': 3,\n",
       "         '2-s2.0-85040909229': 2,\n",
       "         '2-s2.0-85041032154': 1,\n",
       "         '2-s2.0-85041039465': 1,\n",
       "         '2-s2.0-85042093968': 1,\n",
       "         '2-s2.0-85042294317': 1,\n",
       "         '2-s2.0-85042883208': 1,\n",
       "         '2-s2.0-85046003979': 1,\n",
       "         '2-s2.0-85046041678': 1,\n",
       "         '2-s2.0-85046267332': 1,\n",
       "         '2-s2.0-85046533478': 1,\n",
       "         '2-s2.0-85047438355': 3,\n",
       "         '2-s2.0-85048037413': 1,\n",
       "         '2-s2.0-85049021582': 2,\n",
       "         '2-s2.0-85049367279': 1,\n",
       "         '2-s2.0-85050469221': 2,\n",
       "         '2-s2.0-85050521507': 1,\n",
       "         '2-s2.0-85050527311': 2,\n",
       "         '2-s2.0-85050552477': 1,\n",
       "         '2-s2.0-85050559484': 1,\n",
       "         '2-s2.0-85050559572': 3,\n",
       "         '2-s2.0-85050562151': 2,\n",
       "         '2-s2.0-85050565503': 1,\n",
       "         '2-s2.0-85050621172': 1,\n",
       "         '2-s2.0-85050625664': 2,\n",
       "         '2-s2.0-85050795534': 1,\n",
       "         '2-s2.0-85051060329': 1,\n",
       "         '2-s2.0-85053221076': 1,\n",
       "         '2-s2.0-85053870949': 1,\n",
       "         '2-s2.0-85053882370': 2,\n",
       "         '2-s2.0-85055281901': 1,\n",
       "         '2-s2.0-85055417047': 1,\n",
       "         '2-s2.0-85055427090': 2,\n",
       "         '2-s2.0-85055678503': 1,\n",
       "         '2-s2.0-85055776779': 2,\n",
       "         '2-s2.0-85057617053': 1,\n",
       "         '2-s2.0-85059913649': 1,\n",
       "         '2-s2.0-85059915834': 1,\n",
       "         '2-s2.0-85059949196': 3,\n",
       "         '2-s2.0-85059964797': 3,\n",
       "         '2-s2.0-85060650571': 2,\n",
       "         '2-s2.0-85061506054': 2,\n",
       "         '2-s2.0-85061673185': 1,\n",
       "         '2-s2.0-85062146864': 1,\n",
       "         '2-s2.0-85062375571': 1,\n",
       "         '2-s2.0-85062473946': 1,\n",
       "         '2-s2.0-85062502903': 1,\n",
       "         '2-s2.0-85062597836': 1,\n",
       "         '2-s2.0-85062824722': 1,\n",
       "         '2-s2.0-85062867319': 1,\n",
       "         '2-s2.0-85062905236': 2,\n",
       "         '2-s2.0-85063097733': 1,\n",
       "         '2-s2.0-85063390463': 1,\n",
       "         '2-s2.0-85063465501': 1,\n",
       "         '2-s2.0-85063490305': 1,\n",
       "         '2-s2.0-85063531176': 1,\n",
       "         '2-s2.0-85063577867': 1})"
      ]
     },
     "execution_count": 11,
     "metadata": {},
     "output_type": "execute_result"
    }
   ],
   "source": [
    "from collections import Counter\n",
    "counter=Counter(clean_df.EID)\n",
    "counter"
   ]
  },
  {
   "cell_type": "code",
   "execution_count": 12,
   "metadata": {},
   "outputs": [
    {
     "data": {
      "text/plain": [
       "233"
      ]
     },
     "execution_count": 12,
     "metadata": {},
     "output_type": "execute_result"
    }
   ],
   "source": [
    "len(counter)"
   ]
  },
  {
   "cell_type": "code",
   "execution_count": 13,
   "metadata": {
    "collapsed": true
   },
   "outputs": [],
   "source": [
    "#Limpiar los abstracts\n",
    "import nltk\n",
    "from nltk.corpus import stopwords\n",
    "from nltk.tokenize import word_tokenize\n",
    "import re\n",
    "lista_abs=[]\n",
    "\n",
    "for ab in clean_df.Abstract:\n",
    "    stop_words_english= set(stopwords.words('english'))\n",
    "    stop_words_text=['background.','background','objective','in','this','paper','letter','article','work',\n",
    "                    'so','far','aim','purpose', 'context','we', 'as','recent', 'according', 'objectives',\n",
    "                    'objective.','and','ethnopharmacological', 'ethno-pharmacological','relevance','introduction']\n",
    "    stop_words=stop_words_english.union(stop_words_text)\n",
    "    \n",
    "    filtered_tokens = []\n",
    "    word_tokens = word_tokenize(ab)\n",
    "    find=0\n",
    "    for i in range(0,4):\n",
    "        if (word_tokens[i]==':'):\n",
    "            find=1\n",
    "            break\n",
    "    if(find):\n",
    "        aux=word_tokens[i+1:]\n",
    "    else:\n",
    "        aux=word_tokens\n",
    "        \n",
    "    for token in aux:\n",
    "        if re.search('[a-zA-Z0-9]', token):\n",
    "            filtered_tokens.append(token.lower())\n",
    "    filtered_token = [w for w in filtered_tokens if not w in stop_words]\n",
    "    lista_abs.append(filtered_token)"
   ]
  },
  {
   "cell_type": "code",
   "execution_count": 14,
   "metadata": {
    "collapsed": true
   },
   "outputs": [],
   "source": [
    "lista_title=[]\n",
    "for title in clean_df.Title:\n",
    "    stop_words= set(stopwords.words('english'))\n",
    "    filtered_tokens = []\n",
    "    word_tokens = word_tokenize(title)\n",
    "    for token in word_tokens:\n",
    "        if re.search('[a-zA-Z0-9]', token):\n",
    "            filtered_tokens.append(token.lower())\n",
    "    filtered_token = [w for w in filtered_tokens if not w in stop_words]\n",
    "    lista_title.append(filtered_token)  "
   ]
  },
  {
   "cell_type": "code",
   "execution_count": 15,
   "metadata": {},
   "outputs": [
    {
     "name": "stdout",
     "output_type": "stream",
     "text": [
      "[307, 307]\n"
     ]
    }
   ],
   "source": [
    "print([len(lista_title),len(lista_abs)])"
   ]
  },
  {
   "cell_type": "code",
   "execution_count": 16,
   "metadata": {},
   "outputs": [
    {
     "name": "stdout",
     "output_type": "stream",
     "text": [
      "25\n",
      "2-s2.0-84960960749\n",
      "28\n",
      "2-s2.0-84939574642\n",
      "34\n",
      "2-s2.0-84960909915\n",
      "41\n",
      "2-s2.0-84919651307\n",
      "100\n",
      "2-s2.0-85049021582\n",
      "105\n",
      "2-s2.0-84956658909\n",
      "106\n",
      "2-s2.0-85037135211\n",
      "107\n",
      "2-s2.0-84983119448\n",
      "109\n",
      "2-s2.0-84906820567\n",
      "118\n",
      "2-s2.0-84960960749\n",
      "121\n",
      "2-s2.0-84942323977\n",
      "123\n",
      "2-s2.0-84939574642\n",
      "127\n",
      "2-s2.0-84930538726\n",
      "128\n",
      "2-s2.0-84929494028\n",
      "129\n",
      "2-s2.0-84965133730\n",
      "130\n",
      "2-s2.0-84908329727\n",
      "137\n",
      "2-s2.0-84887116688\n",
      "138\n",
      "2-s2.0-84879739313\n",
      "139\n",
      "2-s2.0-84868146529\n",
      "140\n",
      "2-s2.0-84903597671\n",
      "141\n",
      "2-s2.0-83755190246\n",
      "142\n",
      "2-s2.0-80052902986\n",
      "144\n",
      "2-s2.0-83055187008\n",
      "146\n",
      "2-s2.0-78649504567\n",
      "147\n",
      "2-s2.0-84884599900\n",
      "149\n",
      "2-s2.0-72249087837\n",
      "150\n",
      "2-s2.0-70449654668\n",
      "153\n",
      "2-s2.0-85062905236\n",
      "154\n",
      "2-s2.0-85060650571\n",
      "158\n",
      "2-s2.0-85053882370\n",
      "160\n",
      "2-s2.0-85050469221\n",
      "200\n",
      "2-s2.0-85050527311\n",
      "201\n",
      "2-s2.0-85047438355\n",
      "206\n",
      "2-s2.0-85040909229\n",
      "207\n",
      "2-s2.0-84986320281\n",
      "208\n",
      "2-s2.0-85025154526\n",
      "211\n",
      "2-s2.0-84962689305\n",
      "212\n",
      "2-s2.0-84964816250\n",
      "215\n",
      "2-s2.0-84957620546\n",
      "216\n",
      "2-s2.0-84977560121\n",
      "219\n",
      "2-s2.0-84947219639\n",
      "220\n",
      "2-s2.0-84936818065\n",
      "221\n",
      "2-s2.0-84962664112\n",
      "222\n",
      "2-s2.0-84907833434\n",
      "224\n",
      "2-s2.0-84903458686\n",
      "226\n",
      "2-s2.0-84886656759\n",
      "233\n",
      "2-s2.0-85059949196\n",
      "234\n",
      "2-s2.0-85047438355\n",
      "235\n",
      "2-s2.0-85040223939\n",
      "236\n",
      "2-s2.0-85050559572\n",
      "237\n",
      "2-s2.0-84986320281\n",
      "238\n",
      "2-s2.0-85025154526\n",
      "239\n",
      "2-s2.0-84962689305\n",
      "240\n",
      "2-s2.0-84977560121\n",
      "241\n",
      "2-s2.0-84947219639\n",
      "242\n",
      "2-s2.0-84936818065\n",
      "243\n",
      "2-s2.0-84903458686\n",
      "244\n",
      "2-s2.0-85055776779\n",
      "245\n",
      "2-s2.0-85059964797\n",
      "246\n",
      "2-s2.0-85059949196\n",
      "247\n",
      "2-s2.0-85050559572\n",
      "248\n",
      "2-s2.0-85033432256\n",
      "249\n",
      "2-s2.0-85025172909\n",
      "250\n",
      "2-s2.0-85025174736\n",
      "252\n",
      "2-s2.0-85059964797\n",
      "253\n",
      "2-s2.0-85061506054\n",
      "254\n",
      "2-s2.0-85050625664\n",
      "255\n",
      "2-s2.0-85040223939\n",
      "256\n",
      "2-s2.0-85050562151\n",
      "263\n",
      "2-s2.0-85025121711\n",
      "266\n",
      "2-s2.0-84907833434\n",
      "288\n",
      "2-s2.0-85055427090\n",
      "289\n",
      "2-s2.0-85028645758\n",
      "297\n",
      "2-s2.0-84945968478\n"
     ]
    }
   ],
   "source": [
    "#Sacar la lista de los autores\n",
    "#auxiliar\n",
    "lista_autor=[]\n",
    "lista_id_autor=[]\n",
    "lista_id_publicacion=[]\n",
    "lista_cantidad=[]\n",
    "lista_coautores=[]\n",
    "lista_publicacion=[]\n",
    "lista_titulo=[]\n",
    "lista_abstract=[]\n",
    "lista_key=[]\n",
    "lista_area=[]\n",
    "lista_macro=[]\n",
    "\n",
    "ind=0\n",
    "index=0\n",
    "pub_check=[]\n",
    "\n",
    "#reordenar\n",
    "for row in clean_df.Authors:\n",
    "    #Extraer informacion\n",
    "    sep=clean_df.AuthorsID[ind].split(';')\n",
    "    name=clean_df.Authors[ind].split(',')\n",
    "    key=clean_df.AuthorsKeywords[ind].split(';')\n",
    "    \n",
    "    cod_pub=clean_df.EID[ind]\n",
    "    area=clean_df.Area[ind]\n",
    "    macro=clean_df.MacroArea[ind]\n",
    "    pub=lista_title[ind]+lista_abs[ind]\n",
    "    size=len(sep)\n",
    "    #verificar si la publicación ya existe\n",
    "    if cod_pub in pub_check:\n",
    "        print(ind)\n",
    "        print (cod_pub)\n",
    "    else:\n",
    "        pub_check.append(cod_pub)\n",
    "        for i in range(0,size-1):\n",
    "        #si no esta el id autor se añade lista_id_autor\n",
    "            if int(sep[i]) not in lista_id_autor:\n",
    "                lista_id_autor.append(int(sep[i]))\n",
    "                lista_autor.append(name[i])\n",
    "            \n",
    "                lista_id_publicacion.append([cod_pub])\n",
    "                lista_publicacion.append(pub)\n",
    "                lista_titulo.append(lista_title[ind])\n",
    "                lista_abstract.append(lista_abs[ind])\n",
    "                lista_cantidad.append(1)\n",
    "                lista_coautores.append(sep[:-1])\n",
    "                lista_area.append([area])\n",
    "                lista_macro.append([macro])\n",
    "                lista_key.append(key)\n",
    "            else:\n",
    "                #buscar el indice donde esta el autor\n",
    "                indice=0\n",
    "                count=0\n",
    "                for cod in lista_id_autor:\n",
    "                    if cod==int(sep[i]):\n",
    "                        indice=count\n",
    "                        break\n",
    "                    count+=1\n",
    "                #Añadir el codigo de la publicación en el autor\n",
    "                lista_id_publicacion[indice].append(cod_pub)\n",
    "                lista_publicacion[indice]+=pub\n",
    "                lista_titulo[indice]+=lista_title[ind]\n",
    "                lista_abstract[indice]+=lista_abs[ind]\n",
    "                lista_cantidad[indice]+=1\n",
    "                lista_coautores[indice]=lista_coautores[indice] + sep[:-1]\n",
    "                lista_area[indice].append(area)\n",
    "                lista_macro[indice].append(macro)\n",
    "                lista_key[indice]+=key\n",
    "        index=index+1\n",
    "    ind+=1"
   ]
  },
  {
   "cell_type": "code",
   "execution_count": 17,
   "metadata": {
    "collapsed": true
   },
   "outputs": [],
   "source": [
    "data_estructurada = pd.DataFrame({'Autor': lista_autor, \n",
    "                                'IdAutor': lista_id_autor,                                \n",
    "                                'CantidadPub':lista_cantidad,\n",
    "                                'Publicacion':lista_publicacion,\n",
    "                                'IdPublicacion':lista_id_publicacion,\n",
    "                                'Titulo':lista_titulo,\n",
    "                                'Abstract':lista_abstract,  \n",
    "                                'Coautor':lista_coautores,\n",
    "                                'Macro':lista_macro,\n",
    "                                'Keyword':lista_key,\n",
    "                                'Area':lista_area                              \n",
    "                                 })"
   ]
  },
  {
   "cell_type": "code",
   "execution_count": 18,
   "metadata": {},
   "outputs": [
    {
     "data": {
      "text/plain": [
       "(331, 11)"
      ]
     },
     "execution_count": 18,
     "metadata": {},
     "output_type": "execute_result"
    }
   ],
   "source": [
    "data_estructurada.shape"
   ]
  },
  {
   "cell_type": "code",
   "execution_count": 19,
   "metadata": {},
   "outputs": [
    {
     "data": {
      "text/plain": [
       "12"
      ]
     },
     "execution_count": 19,
     "metadata": {},
     "output_type": "execute_result"
    }
   ],
   "source": [
    "len(data_estructurada.Area[0])"
   ]
  },
  {
   "cell_type": "code",
   "execution_count": 20,
   "metadata": {},
   "outputs": [
    {
     "data": {
      "text/html": [
       "<div>\n",
       "<style>\n",
       "    .dataframe thead tr:only-child th {\n",
       "        text-align: right;\n",
       "    }\n",
       "\n",
       "    .dataframe thead th {\n",
       "        text-align: left;\n",
       "    }\n",
       "\n",
       "    .dataframe tbody tr th {\n",
       "        vertical-align: top;\n",
       "    }\n",
       "</style>\n",
       "<table border=\"1\" class=\"dataframe\">\n",
       "  <thead>\n",
       "    <tr style=\"text-align: right;\">\n",
       "      <th></th>\n",
       "      <th>Abstract</th>\n",
       "      <th>Area</th>\n",
       "      <th>Autor</th>\n",
       "      <th>CantidadPub</th>\n",
       "      <th>Coautor</th>\n",
       "      <th>IdAutor</th>\n",
       "      <th>IdPublicacion</th>\n",
       "      <th>Keyword</th>\n",
       "      <th>Macro</th>\n",
       "      <th>Publicacion</th>\n",
       "      <th>Titulo</th>\n",
       "    </tr>\n",
       "  </thead>\n",
       "  <tbody>\n",
       "    <tr>\n",
       "      <th>0</th>\n",
       "      <td>[detailed, multinomial, classification-based, ...</td>\n",
       "      <td>[ENGI, ENGI, ENGI, ENGI, ENGI, ENGI, ENGI, ENG...</td>\n",
       "      <td>Alatrista-Salas H.</td>\n",
       "      <td>12</td>\n",
       "      <td>[36970459100, 57207793166, 57192393631, 369704...</td>\n",
       "      <td>36970459100</td>\n",
       "      <td>[2-s2.0-85062905236, 2-s2.0-85060650571, 2-s2....</td>\n",
       "      <td>[Classification,  Crime analysis,  Text mining...</td>\n",
       "      <td>[PHYSICAL, PHYSICAL, PHYSICAL, PHYSICAL, PHYSI...</td>\n",
       "      <td>[crime, alert, crime, typification, news, base...</td>\n",
       "      <td>[crime, alert, crime, typification, news, base...</td>\n",
       "    </tr>\n",
       "    <tr>\n",
       "      <th>1</th>\n",
       "      <td>[detailed, multinomial, classification-based, ...</td>\n",
       "      <td>[ENGI]</td>\n",
       "      <td>Morzán-Samamé J.</td>\n",
       "      <td>1</td>\n",
       "      <td>[36970459100, 57207793166, 57192393631]</td>\n",
       "      <td>57207793166</td>\n",
       "      <td>[2-s2.0-85062905236]</td>\n",
       "      <td>[Classification,  Crime analysis,  Text mining...</td>\n",
       "      <td>[PHYSICAL]</td>\n",
       "      <td>[crime, alert, crime, typification, news, base...</td>\n",
       "      <td>[crime, alert, crime, typification, news, base...</td>\n",
       "    </tr>\n",
       "    <tr>\n",
       "      <th>2</th>\n",
       "      <td>[detailed, multinomial, classification-based, ...</td>\n",
       "      <td>[ENGI, ENGI, ENGI, ENGI, ENGI, ENGI, ENGI, ENG...</td>\n",
       "      <td>Nunez-del-Prado M.</td>\n",
       "      <td>15</td>\n",
       "      <td>[36970459100, 57207793166, 57192393631, 369704...</td>\n",
       "      <td>57192393631</td>\n",
       "      <td>[2-s2.0-85062905236, 2-s2.0-85060650571, 2-s2....</td>\n",
       "      <td>[Classification,  Crime analysis,  Text mining...</td>\n",
       "      <td>[PHYSICAL, PHYSICAL, PHYSICAL, PHYSICAL, PHYSI...</td>\n",
       "      <td>[crime, alert, crime, typification, news, base...</td>\n",
       "      <td>[crime, alert, crime, typification, news, base...</td>\n",
       "    </tr>\n",
       "    <tr>\n",
       "      <th>3</th>\n",
       "      <td>[gender, discrimination, act, exclusion, diffe...</td>\n",
       "      <td>[ENGI]</td>\n",
       "      <td>Hidalgo-Leon P.</td>\n",
       "      <td>1</td>\n",
       "      <td>[36970459100, 57205581349, 57192393631]</td>\n",
       "      <td>57205581349</td>\n",
       "      <td>[2-s2.0-85060650571]</td>\n",
       "      <td>[Data mining,  Discrimination,  Document retri...</td>\n",
       "      <td>[PHYSICAL]</td>\n",
       "      <td>[documents, retrieval, qualitative, research, ...</td>\n",
       "      <td>[documents, retrieval, qualitative, research, ...</td>\n",
       "    </tr>\n",
       "    <tr>\n",
       "      <th>4</th>\n",
       "      <td>[gender, discrimination, widely, analyzed, pro...</td>\n",
       "      <td>[ENGI, ENGI, ENGI]</td>\n",
       "      <td>Esposito B.</td>\n",
       "      <td>3</td>\n",
       "      <td>[36970459100, 57200273045, 57192393631, 572030...</td>\n",
       "      <td>57200273045</td>\n",
       "      <td>[2-s2.0-85050469221, 2-s2.0-85063531176, 2-s2....</td>\n",
       "      <td>[clustering,  Data Mining,  Expectation Maximi...</td>\n",
       "      <td>[PHYSICAL, PHYSICAL, PHYSICAL]</td>\n",
       "      <td>[measuring, gender, discrimination, machine, l...</td>\n",
       "      <td>[measuring, gender, discrimination, machine, l...</td>\n",
       "    </tr>\n",
       "    <tr>\n",
       "      <th>5</th>\n",
       "      <td>[gender, discrimination, widely, analyzed, pro...</td>\n",
       "      <td>[ENGI]</td>\n",
       "      <td>Valdivieso M.</td>\n",
       "      <td>1</td>\n",
       "      <td>[36970459100, 57200273045, 57192393631, 572030...</td>\n",
       "      <td>57203089930</td>\n",
       "      <td>[2-s2.0-85050469221]</td>\n",
       "      <td>[clustering,  Data Mining,  Expectation Maximi...</td>\n",
       "      <td>[PHYSICAL]</td>\n",
       "      <td>[measuring, gender, discrimination, machine, l...</td>\n",
       "      <td>[measuring, gender, discrimination, machine, l...</td>\n",
       "    </tr>\n",
       "    <tr>\n",
       "      <th>6</th>\n",
       "      <td>[currently, understanding, human, mobility, im...</td>\n",
       "      <td>[ENGI]</td>\n",
       "      <td>Núñez-Del-Prado-Cortez M.</td>\n",
       "      <td>1</td>\n",
       "      <td>[57192388537, 36970459100]</td>\n",
       "      <td>57192388537</td>\n",
       "      <td>[2-s2.0-85013237601]</td>\n",
       "      <td>[Administrative region,  Clustering,  Mobility...</td>\n",
       "      <td>[PHYSICAL]</td>\n",
       "      <td>[administrative, regions, discovery, based, hu...</td>\n",
       "      <td>[administrative, regions, discovery, based, hu...</td>\n",
       "    </tr>\n",
       "    <tr>\n",
       "      <th>7</th>\n",
       "      <td>[data, mining, methods, extract, knowledge, hu...</td>\n",
       "      <td>[ENGI, ENGI, ENGI, ENGI, ENGI, ENGI, ENGI, ENG...</td>\n",
       "      <td>Bringay S.</td>\n",
       "      <td>42</td>\n",
       "      <td>[36970459100, 22033780200, 14015692300, 150570...</td>\n",
       "      <td>22033780200</td>\n",
       "      <td>[2-s2.0-84960960749, 2-s2.0-84939574642, 2-s2....</td>\n",
       "      <td>[Health risk management,  Sequential patterns,...</td>\n",
       "      <td>[PHYSICAL, PHYSICAL, PHYSICAL, PHYSICAL, PHYSI...</td>\n",
       "      <td>[spatio-sequential, patterns, mining, beyond, ...</td>\n",
       "      <td>[spatio-sequential, patterns, mining, beyond, ...</td>\n",
       "    </tr>\n",
       "    <tr>\n",
       "      <th>8</th>\n",
       "      <td>[data, mining, methods, extract, knowledge, hu...</td>\n",
       "      <td>[ENGI, ENGI]</td>\n",
       "      <td>Flouvat F.</td>\n",
       "      <td>2</td>\n",
       "      <td>[36970459100, 22033780200, 14015692300, 150570...</td>\n",
       "      <td>14015692300</td>\n",
       "      <td>[2-s2.0-84960960749, 2-s2.0-84894119497]</td>\n",
       "      <td>[Health risk management,  Sequential patterns,...</td>\n",
       "      <td>[PHYSICAL, PHYSICAL]</td>\n",
       "      <td>[spatio-sequential, patterns, mining, beyond, ...</td>\n",
       "      <td>[spatio-sequential, patterns, mining, beyond, ...</td>\n",
       "    </tr>\n",
       "    <tr>\n",
       "      <th>9</th>\n",
       "      <td>[data, mining, methods, extract, knowledge, hu...</td>\n",
       "      <td>[ENGI, ENGI, ENGI]</td>\n",
       "      <td>Selmaoui-Folcher N.</td>\n",
       "      <td>3</td>\n",
       "      <td>[36970459100, 22033780200, 14015692300, 150570...</td>\n",
       "      <td>15057005700</td>\n",
       "      <td>[2-s2.0-84960960749, 2-s2.0-84939574642, 2-s2....</td>\n",
       "      <td>[Health risk management,  Sequential patterns,...</td>\n",
       "      <td>[PHYSICAL, PHYSICAL, PHYSICAL]</td>\n",
       "      <td>[spatio-sequential, patterns, mining, beyond, ...</td>\n",
       "      <td>[spatio-sequential, patterns, mining, beyond, ...</td>\n",
       "    </tr>\n",
       "    <tr>\n",
       "      <th>10</th>\n",
       "      <td>[data, mining, methods, extract, knowledge, hu...</td>\n",
       "      <td>[ENGI, ENGI, ENGI, ENGI, ENGI, ENGI, ENGI, ENG...</td>\n",
       "      <td>Teisseire M.</td>\n",
       "      <td>87</td>\n",
       "      <td>[36970459100, 22033780200, 14015692300, 150570...</td>\n",
       "      <td>6601930149</td>\n",
       "      <td>[2-s2.0-84960960749, 2-s2.0-84939574642, 2-s2....</td>\n",
       "      <td>[Health risk management,  Sequential patterns,...</td>\n",
       "      <td>[PHYSICAL, PHYSICAL, PHYSICAL, PHYSICAL, PHYSI...</td>\n",
       "      <td>[spatio-sequential, patterns, mining, beyond, ...</td>\n",
       "      <td>[spatio-sequential, patterns, mining, beyond, ...</td>\n",
       "    </tr>\n",
       "  </tbody>\n",
       "</table>\n",
       "</div>"
      ],
      "text/plain": [
       "                                             Abstract  \\\n",
       "0   [detailed, multinomial, classification-based, ...   \n",
       "1   [detailed, multinomial, classification-based, ...   \n",
       "2   [detailed, multinomial, classification-based, ...   \n",
       "3   [gender, discrimination, act, exclusion, diffe...   \n",
       "4   [gender, discrimination, widely, analyzed, pro...   \n",
       "5   [gender, discrimination, widely, analyzed, pro...   \n",
       "6   [currently, understanding, human, mobility, im...   \n",
       "7   [data, mining, methods, extract, knowledge, hu...   \n",
       "8   [data, mining, methods, extract, knowledge, hu...   \n",
       "9   [data, mining, methods, extract, knowledge, hu...   \n",
       "10  [data, mining, methods, extract, knowledge, hu...   \n",
       "\n",
       "                                                 Area  \\\n",
       "0   [ENGI, ENGI, ENGI, ENGI, ENGI, ENGI, ENGI, ENG...   \n",
       "1                                              [ENGI]   \n",
       "2   [ENGI, ENGI, ENGI, ENGI, ENGI, ENGI, ENGI, ENG...   \n",
       "3                                              [ENGI]   \n",
       "4                                  [ENGI, ENGI, ENGI]   \n",
       "5                                              [ENGI]   \n",
       "6                                              [ENGI]   \n",
       "7   [ENGI, ENGI, ENGI, ENGI, ENGI, ENGI, ENGI, ENG...   \n",
       "8                                        [ENGI, ENGI]   \n",
       "9                                  [ENGI, ENGI, ENGI]   \n",
       "10  [ENGI, ENGI, ENGI, ENGI, ENGI, ENGI, ENGI, ENG...   \n",
       "\n",
       "                        Autor  CantidadPub  \\\n",
       "0          Alatrista-Salas H.           12   \n",
       "1            Morzán-Samamé J.            1   \n",
       "2          Nunez-del-Prado M.           15   \n",
       "3             Hidalgo-Leon P.            1   \n",
       "4                 Esposito B.            3   \n",
       "5               Valdivieso M.            1   \n",
       "6   Núñez-Del-Prado-Cortez M.            1   \n",
       "7                  Bringay S.           42   \n",
       "8                  Flouvat F.            2   \n",
       "9         Selmaoui-Folcher N.            3   \n",
       "10               Teisseire M.           87   \n",
       "\n",
       "                                              Coautor      IdAutor  \\\n",
       "0   [36970459100, 57207793166, 57192393631, 369704...  36970459100   \n",
       "1             [36970459100, 57207793166, 57192393631]  57207793166   \n",
       "2   [36970459100, 57207793166, 57192393631, 369704...  57192393631   \n",
       "3             [36970459100, 57205581349, 57192393631]  57205581349   \n",
       "4   [36970459100, 57200273045, 57192393631, 572030...  57200273045   \n",
       "5   [36970459100, 57200273045, 57192393631, 572030...  57203089930   \n",
       "6                          [57192388537, 36970459100]  57192388537   \n",
       "7   [36970459100, 22033780200, 14015692300, 150570...  22033780200   \n",
       "8   [36970459100, 22033780200, 14015692300, 150570...  14015692300   \n",
       "9   [36970459100, 22033780200, 14015692300, 150570...  15057005700   \n",
       "10  [36970459100, 22033780200, 14015692300, 150570...   6601930149   \n",
       "\n",
       "                                        IdPublicacion  \\\n",
       "0   [2-s2.0-85062905236, 2-s2.0-85060650571, 2-s2....   \n",
       "1                                [2-s2.0-85062905236]   \n",
       "2   [2-s2.0-85062905236, 2-s2.0-85060650571, 2-s2....   \n",
       "3                                [2-s2.0-85060650571]   \n",
       "4   [2-s2.0-85050469221, 2-s2.0-85063531176, 2-s2....   \n",
       "5                                [2-s2.0-85050469221]   \n",
       "6                                [2-s2.0-85013237601]   \n",
       "7   [2-s2.0-84960960749, 2-s2.0-84939574642, 2-s2....   \n",
       "8            [2-s2.0-84960960749, 2-s2.0-84894119497]   \n",
       "9   [2-s2.0-84960960749, 2-s2.0-84939574642, 2-s2....   \n",
       "10  [2-s2.0-84960960749, 2-s2.0-84939574642, 2-s2....   \n",
       "\n",
       "                                              Keyword  \\\n",
       "0   [Classification,  Crime analysis,  Text mining...   \n",
       "1   [Classification,  Crime analysis,  Text mining...   \n",
       "2   [Classification,  Crime analysis,  Text mining...   \n",
       "3   [Data mining,  Discrimination,  Document retri...   \n",
       "4   [clustering,  Data Mining,  Expectation Maximi...   \n",
       "5   [clustering,  Data Mining,  Expectation Maximi...   \n",
       "6   [Administrative region,  Clustering,  Mobility...   \n",
       "7   [Health risk management,  Sequential patterns,...   \n",
       "8   [Health risk management,  Sequential patterns,...   \n",
       "9   [Health risk management,  Sequential patterns,...   \n",
       "10  [Health risk management,  Sequential patterns,...   \n",
       "\n",
       "                                                Macro  \\\n",
       "0   [PHYSICAL, PHYSICAL, PHYSICAL, PHYSICAL, PHYSI...   \n",
       "1                                          [PHYSICAL]   \n",
       "2   [PHYSICAL, PHYSICAL, PHYSICAL, PHYSICAL, PHYSI...   \n",
       "3                                          [PHYSICAL]   \n",
       "4                      [PHYSICAL, PHYSICAL, PHYSICAL]   \n",
       "5                                          [PHYSICAL]   \n",
       "6                                          [PHYSICAL]   \n",
       "7   [PHYSICAL, PHYSICAL, PHYSICAL, PHYSICAL, PHYSI...   \n",
       "8                                [PHYSICAL, PHYSICAL]   \n",
       "9                      [PHYSICAL, PHYSICAL, PHYSICAL]   \n",
       "10  [PHYSICAL, PHYSICAL, PHYSICAL, PHYSICAL, PHYSI...   \n",
       "\n",
       "                                          Publicacion  \\\n",
       "0   [crime, alert, crime, typification, news, base...   \n",
       "1   [crime, alert, crime, typification, news, base...   \n",
       "2   [crime, alert, crime, typification, news, base...   \n",
       "3   [documents, retrieval, qualitative, research, ...   \n",
       "4   [measuring, gender, discrimination, machine, l...   \n",
       "5   [measuring, gender, discrimination, machine, l...   \n",
       "6   [administrative, regions, discovery, based, hu...   \n",
       "7   [spatio-sequential, patterns, mining, beyond, ...   \n",
       "8   [spatio-sequential, patterns, mining, beyond, ...   \n",
       "9   [spatio-sequential, patterns, mining, beyond, ...   \n",
       "10  [spatio-sequential, patterns, mining, beyond, ...   \n",
       "\n",
       "                                               Titulo  \n",
       "0   [crime, alert, crime, typification, news, base...  \n",
       "1   [crime, alert, crime, typification, news, base...  \n",
       "2   [crime, alert, crime, typification, news, base...  \n",
       "3   [documents, retrieval, qualitative, research, ...  \n",
       "4   [measuring, gender, discrimination, machine, l...  \n",
       "5   [measuring, gender, discrimination, machine, l...  \n",
       "6   [administrative, regions, discovery, based, hu...  \n",
       "7   [spatio-sequential, patterns, mining, beyond, ...  \n",
       "8   [spatio-sequential, patterns, mining, beyond, ...  \n",
       "9   [spatio-sequential, patterns, mining, beyond, ...  \n",
       "10  [spatio-sequential, patterns, mining, beyond, ...  "
      ]
     },
     "execution_count": 20,
     "metadata": {},
     "output_type": "execute_result"
    }
   ],
   "source": [
    "data_estructurada.head(11)"
   ]
  },
  {
   "cell_type": "code",
   "execution_count": 2,
   "metadata": {},
   "outputs": [
    {
     "ename": "NameError",
     "evalue": "name 'data_estructurada' is not defined",
     "output_type": "error",
     "traceback": [
      "\u001b[0;31m---------------------------------------------------------------------------\u001b[0m",
      "\u001b[0;31mNameError\u001b[0m                                 Traceback (most recent call last)",
      "\u001b[0;32m<ipython-input-2-06555de25a93>\u001b[0m in \u001b[0;36m<module>\u001b[0;34m()\u001b[0m\n\u001b[1;32m      1\u001b[0m \u001b[0;31m#Exportar en csv los autores\u001b[0m\u001b[0;34m\u001b[0m\u001b[0;34m\u001b[0m\u001b[0m\n\u001b[1;32m      2\u001b[0m \u001b[0;31m#df.to_csv(file_name, sep='\\t', encoding='utf-8')\u001b[0m\u001b[0;34m\u001b[0m\u001b[0;34m\u001b[0m\u001b[0m\n\u001b[0;32m----> 3\u001b[0;31m \u001b[0mdata_estructurada\u001b[0m\u001b[0;34m.\u001b[0m\u001b[0mto_csv\u001b[0m\u001b[0;34m(\u001b[0m\u001b[0;34m'DataValidacion.csv'\u001b[0m\u001b[0;34m)\u001b[0m\u001b[0;34m\u001b[0m\u001b[0m\n\u001b[0m",
      "\u001b[0;31mNameError\u001b[0m: name 'data_estructurada' is not defined"
     ]
    }
   ],
   "source": [
    "#Exportar en csv los autores \n",
    "#df.to_csv(file_name, sep='\\t', encoding='utf-8')\n",
    "data_estructurada.to_csv('DataValidacion.csv')"
   ]
  },
  {
   "cell_type": "code",
   "execution_count": 1,
   "metadata": {
    "collapsed": true
   },
   "outputs": [],
   "source": [
    "#Juntar la prueba con la data estructurada:\n",
    "import pandas as pd\n",
    "autores=pd.read_csv('DataTest2%.csv')"
   ]
  },
  {
   "cell_type": "code",
   "execution_count": 2,
   "metadata": {
    "collapsed": true
   },
   "outputs": [],
   "source": [
    "import pandas as pd\n",
    "prueba=pd.read_csv('DataValidacion.csv')"
   ]
  },
  {
   "cell_type": "code",
   "execution_count": 3,
   "metadata": {},
   "outputs": [
    {
     "data": {
      "text/plain": [
       "(3151, 13)"
      ]
     },
     "execution_count": 3,
     "metadata": {},
     "output_type": "execute_result"
    }
   ],
   "source": [
    "autores.shape"
   ]
  },
  {
   "cell_type": "code",
   "execution_count": 4,
   "metadata": {},
   "outputs": [
    {
     "data": {
      "text/plain": [
       "(331, 12)"
      ]
     },
     "execution_count": 4,
     "metadata": {},
     "output_type": "execute_result"
    }
   ],
   "source": [
    "prueba.shape"
   ]
  },
  {
   "cell_type": "code",
   "execution_count": 5,
   "metadata": {
    "collapsed": true
   },
   "outputs": [],
   "source": [
    "#Concatenar los csv \n",
    "c=[autores,prueba]\n",
    "data_test = pd.concat( c, axis = 0, ignore_index = True)"
   ]
  },
  {
   "cell_type": "code",
   "execution_count": 6,
   "metadata": {
    "collapsed": true
   },
   "outputs": [],
   "source": [
    "coautores=[]\n",
    "#########################\n",
    "coautor=data_test.Coautor\n",
    "#########################\n",
    "coautor.reset_index(drop=True, inplace=True)\n",
    "for r in coautor:\n",
    "    sep= r.split(',')\n",
    "    m= len(sep)\n",
    "    aux=[]\n",
    "    for i in range(0,m):\n",
    "        if i==m-1:\n",
    "            aux.append(int(sep[i][2:-2]))\n",
    "        else:\n",
    "            aux.append(int(sep[i][2:-1]))\n",
    "    coautores.append(aux)"
   ]
  },
  {
   "cell_type": "code",
   "execution_count": 7,
   "metadata": {},
   "outputs": [
    {
     "data": {
      "text/plain": [
       "3482"
      ]
     },
     "execution_count": 7,
     "metadata": {},
     "output_type": "execute_result"
    }
   ],
   "source": [
    "len(coautores)"
   ]
  },
  {
   "cell_type": "code",
   "execution_count": 8,
   "metadata": {},
   "outputs": [
    {
     "name": "stdout",
     "output_type": "stream",
     "text": [
      "100\n",
      "200\n",
      "300\n",
      "400\n",
      "500\n",
      "600\n",
      "700\n",
      "800\n",
      "900\n",
      "1000\n",
      "1100\n",
      "1200\n",
      "1300\n",
      "1400\n",
      "1500\n",
      "1600\n",
      "1700\n",
      "1800\n",
      "1900\n",
      "2000\n",
      "2100\n",
      "2200\n",
      "2300\n",
      "2400\n",
      "2500\n",
      "2600\n",
      "2700\n",
      "2800\n",
      "2900\n",
      "3000\n",
      "3100\n",
      "3200\n",
      "3300\n",
      "3400\n"
     ]
    }
   ],
   "source": [
    "#import community\n",
    "import networkx as nx\n",
    "import matplotlib.pyplot as plt\n",
    "from collections import Counter\n",
    "#Creación de grafo con peso de cantidad de publicaciones\n",
    "g_cant=nx.Graph()\n",
    "ind=0\n",
    "#########################\n",
    "autor=data_test.IdAutor\n",
    "#autor=autores.IdAutor\n",
    "#########################\n",
    "autor.reset_index(drop=True, inplace=True)\n",
    "\n",
    "for node in autor:\n",
    "    g_cant.add_node(node)\n",
    "\n",
    "for edge in coautores:\n",
    "    counter=Counter(edge)\n",
    "    for elem in counter:\n",
    "        encontrado=0\n",
    "        if elem == autor[ind]:\n",
    "            encontrado=0\n",
    "        else:\n",
    "            for a in autor:\n",
    "                if elem== a:\n",
    "                    encontrado=1\n",
    "        if encontrado:\n",
    "            g_cant.add_edge(autor[ind], elem, weight=counter[elem])\n",
    "    ind+=1\n",
    "    if (ind%100)==0: print (ind)"
   ]
  },
  {
   "cell_type": "code",
   "execution_count": 9,
   "metadata": {},
   "outputs": [
    {
     "name": "stdout",
     "output_type": "stream",
     "text": [
      "Name: \n",
      "Type: Graph\n",
      "Number of nodes: 3482\n",
      "Number of edges: 1287\n",
      "Average degree:   0.7392\n"
     ]
    }
   ],
   "source": [
    "print (nx.info(g_cant))"
   ]
  },
  {
   "cell_type": "code",
   "execution_count": 11,
   "metadata": {},
   "outputs": [
    {
     "name": "stdout",
     "output_type": "stream",
     "text": [
      "Louvain grafo tipo 1 con peso de cantidad de publicaciones - 3482 nodos\n",
      "2994.0\n",
      "0.7005124422628211\n"
     ]
    },
    {
     "data": {
      "image/png": "[encoded data removed]",
      "text/plain": [
       "<matplotlib.figure.Figure at 0x1123dce10>"
      ]
     },
     "metadata": {},
     "output_type": "display_data"
    }
   ],
   "source": [
    "import community\n",
    "import networkx as nx\n",
    "import matplotlib.pyplot as plt\n",
    "\n",
    "G=g_cant\n",
    "#first compute the best partition\n",
    "partition = community.best_partition(G)\n",
    "mod_cant=community.modularity(partition,G)\n",
    "#drawing\n",
    "size = float(len(set(partition.values())))\n",
    "print(\"Louvain grafo tipo 1 con peso de cantidad de publicaciones - 3482 nodos\")\n",
    "print(size)\n",
    "print(mod_cant)\n",
    "pos = nx.spring_layout(G)\n",
    "count = 0.\n",
    "for com in set(partition.values()) :\n",
    "    count = count + 1.\n",
    "    list_nodes = [nodes for nodes in partition.keys()\n",
    "                                if partition[nodes] == com]\n",
    "    nx.draw_networkx_nodes(G, pos, list_nodes, node_size = 20,\n",
    "                                node_color = str(count / size))\n",
    "\n",
    "\n",
    "nx.draw_networkx_edges(G, pos, alpha=0.5)\n",
    "plt.show()"
   ]
  },
  {
   "cell_type": "code",
   "execution_count": 19,
   "metadata": {},
   "outputs": [
    {
     "name": "stdout",
     "output_type": "stream",
     "text": [
      "Louvain grafo tipo 2 con peso de cantidad de publicaciones - 3482 nodos\n",
      "Grupos: \t 2995.0\n",
      "Modularidad:\t 0.6903758224075804\n"
     ]
    }
   ],
   "source": [
    "import community\n",
    "import networkx as nx\n",
    "import matplotlib.pyplot as plt\n",
    "\n",
    "G=g_cant\n",
    "#first compute the best partition\n",
    "partition = community.best_partition(G)\n",
    "#partition = community.best_partition(G,weight=\"weight\")\n",
    "#mod_cant=community.modularity(partition,G,weight=\"weight\")\n",
    "mod_cant=community.modularity(partition,G)\n",
    "#drawing\n",
    "size = float(len(set(partition.values())))\n",
    "print(\"Louvain grafo tipo 2 con peso de cantidad de publicaciones - 3482 nodos\")\n",
    "print(\"Grupos: \\t\",size)\n",
    "print(\"Modularidad:\\t\",mod_cant)"
   ]
  },
  {
   "cell_type": "code",
   "execution_count": null,
   "metadata": {
    "collapsed": true
   },
   "outputs": [],
   "source": [
    "Louvain grafo tipo 2 con peso de cantidad de publicaciones - 3482 nodos\n",
    "Grupos: \t 2926.0\n",
    "Modularidad:\t 0.9951503983504127"
   ]
  },
  {
   "cell_type": "code",
   "execution_count": null,
   "metadata": {
    "collapsed": true
   },
   "outputs": [],
   "source": [
    "Louvain grafo tipo 1 con peso de cantidad de publicaciones - 3482 nodos\n",
    "Grupos: \t 2995.0\n",
    "Modularidad:\t 0.7011389204139613"
   ]
  },
  {
   "cell_type": "code",
   "execution_count": 20,
   "metadata": {
    "collapsed": true
   },
   "outputs": [],
   "source": [
    "lista_cluster=[]\n",
    "lista_cant=[]\n",
    "for com in set(partition.values()) :\n",
    "    list_nodes = [nodes for nodes in partition.keys()\n",
    "                                if partition[nodes] == com]\n",
    "    lista_cluster.append(list_nodes)\n",
    "    lista_cant.append(len(list_nodes))"
   ]
  },
  {
   "cell_type": "code",
   "execution_count": 21,
   "metadata": {
    "collapsed": true
   },
   "outputs": [],
   "source": [
    "def find_group (cod):\n",
    "    indice=0\n",
    "    for lista in lista_cluster:\n",
    "        for item in lista:\n",
    "            if cod== item:\n",
    "                return indice\n",
    "        indice+=1"
   ]
  },
  {
   "cell_type": "code",
   "execution_count": 11,
   "metadata": {},
   "outputs": [],
   "source": [
    "import pickle\n",
    "lista_cluster = pickle.load(open('lista_dv_tipo1_cantpub.pkl','rb'))"
   ]
  },
  {
   "cell_type": "code",
   "execution_count": 22,
   "metadata": {},
   "outputs": [
    {
     "data": {
      "text/plain": [
       "2995"
      ]
     },
     "execution_count": 22,
     "metadata": {},
     "output_type": "execute_result"
    }
   ],
   "source": [
    "len(lista_cluster)"
   ]
  },
  {
   "cell_type": "code",
   "execution_count": 25,
   "metadata": {},
   "outputs": [
    {
     "name": "stdout",
     "output_type": "stream",
     "text": [
      "Grupo Alatrista:\t\t Codigo\t\tGrupo\n",
      "Alatrista-Salas H. :\t\t 36970459100 \t 2985\n",
      " Nunez-del-Prado M. :\t\t 57192393631 \t 2985\n",
      "Núñez-Del-Prado-Cortez M. :\t 57192388537 \t 2985\n",
      " Bringay S. :\t\t\t 22033780200 \t 2986\n",
      " Teisseire M. :\t\t\t 6601930149 \t 2987\n",
      " Poncelet P. :\t\t\t 7005829745 \t 2987\n",
      " Roche M. :\t\t\t 15136810000 \t 2987\n",
      " Laurent A. :\t\t\t 7101728993 \t 2987\n",
      " Ienco D. :\t\t\t 25027558600 \t 2987\n",
      " Jonquet C. :\t\t\t 12039844300 \t 2987\n",
      "Lossio-Ventura J.A. :\t\t 56459046700 \t 2988\n",
      " Bian J. :\t\t\t 7103200005 \t 2988\n",
      " Azé J. :\t\t\t 8584012400 \t 2986\n",
      " Esposito B. :\t\t\t 57200273045 \t 2985\n",
      " Luna A. :\t\t\t 36666915400 \t 2985\n",
      "Hoyos I. :\t\t\t 57192392373 \t 2985\n",
      "Fabrègue M. :\t\t\t 37049755900 \t 2986\n",
      "\n",
      "Grupo Paz:\t\t\t Codigo\t\tGrupo\n",
      " Paz F. :\t\t\t 55907042000 \t 2992\n",
      " Paz F.A. :\t\t\t 6701357991 \t 2992\n",
      " Arenas J.J. :\t\t\t 56269467900 \t 2992\n",
      " Moquillaza A. :\t\t 57195075403 \t 2992\n",
      " Pow Sang J. :\t\t\t 24438339000 \t 2992\n",
      " Collantes L. :\t\t\t 54395290700 \t 2992\n",
      " Zapata C. :\t\t\t 26428960200 \t 2992\n",
      "Aguilar M. :\t\t\t 57191727831 \t 2992\n",
      " Imbert R. :\t\t\t 8662337700 \t 2992\n",
      " Nakasone A. :\t\t\t 12241561200 \t 2992\n",
      " Rusu C. :\t\t\t 15521347000 \t 2992\n",
      " Sánchez M. :\t\t\t 57195065989 \t 2992\n",
      "Diaz E. :\t\t\t 57205415253 \t 2992\n",
      "\n",
      "Grupo Oncevay:\t\t\t Codigo\t\tGrupo\n",
      " Oncevay-Marcos A. :\t\t 56938841200 \t 2993\n",
      " Sobrevilla-Cabezudo M. :\t 57188634548 \t 2993\n",
      "Sobrevilla-Cabezudo M.A. :\t 57204396567 \t 2993\n",
      " Mejía Lara J.V. :\t\t 57207208213 \t 2993\n",
      " Beppler F.D. :\t\t\t 26423576100 \t 2993\n",
      "Arias Velásquez R.M. :\t\t 57190567776 \t 2993\n",
      " Melgar A. :\t\t\t 57184005800 \t 2993\n",
      " Pacheco R.C.S. :\t\t 56278907700 \t 2993\n",
      " Beltráón-Castañn C. :\t\t 55602499700 \t 2994\n",
      "Portugal-Zambrano C.E. :\t 54881238400 \t 2994\n",
      " Gutierrez-Caceres J.C. :\t 56369686000 \t 2994\n",
      "Flores-Quispe R. :\t\t 55602717500 \t 2994\n",
      " Velazco-Paredes Y. :\t\t 55602391500 \t 2994\n"
     ]
    }
   ],
   "source": [
    "#cluster_g1=[36970459100,57192393631,57192388537,22033780200,6601930149,7005829745,15136810000,7101728993,25027558600,12039844300,56459046700,7103200005,8584012400,57200273045,36666915400,57192392373,37049755900]\n",
    "print(\"Grupo Alatrista:\\t\\t Codigo\\t\\tGrupo\")\n",
    "print(data_test.Autor[3151], \":\\t\\t\",data_test.IdAutor[3151],\"\\t\",partition[data_test.IdAutor[3151]])\n",
    "print(data_test.Autor[3153], \":\\t\\t\",data_test.IdAutor[3153],\"\\t\",partition[data_test.IdAutor[3153]])\n",
    "print(data_test.Autor[3157], \":\\t\",data_test.IdAutor[3157],\"\\t\",partition[data_test.IdAutor[3157]])\n",
    "print(data_test.Autor[3158], \":\\t\\t\\t\",data_test.IdAutor[3158],\"\\t\",partition[data_test.IdAutor[3158]])\n",
    "print(data_test.Autor[3161], \":\\t\\t\\t\",data_test.IdAutor[3161],\"\\t\",partition[data_test.IdAutor[3161]])\n",
    "print(data_test.Autor[3197], \":\\t\\t\\t\",data_test.IdAutor[3197],\"\\t\",partition[data_test.IdAutor[3197]])\n",
    "print(data_test.Autor[3169], \":\\t\\t\\t\",data_test.IdAutor[3169],\"\\t\",partition[data_test.IdAutor[3169]])\n",
    "print(data_test.Autor[3216], \":\\t\\t\\t\",data_test.IdAutor[3216],\"\\t\",partition[data_test.IdAutor[3216]])\n",
    "print(data_test.Autor[3180], \":\\t\\t\\t\",data_test.IdAutor[3180],\"\\t\",partition[data_test.IdAutor[3180]])\n",
    "print(data_test.Autor[3194], \":\\t\\t\\t\",data_test.IdAutor[3194],\"\\t\",partition[data_test.IdAutor[3194]])\n",
    "print(data_test.Autor[3192], \":\\t\\t\",data_test.IdAutor[3192],\"\\t\",partition[data_test.IdAutor[3192]])\n",
    "print(data_test.Autor[3193], \":\\t\\t\\t\",data_test.IdAutor[3193],\"\\t\",partition[data_test.IdAutor[3193]])\n",
    "print(data_test.Autor[3162], \":\\t\\t\\t\",data_test.IdAutor[3162],\"\\t\",partition[data_test.IdAutor[3162]])\n",
    "print(data_test.Autor[3155], \":\\t\\t\\t\",data_test.IdAutor[3155],\"\\t\",partition[data_test.IdAutor[3155]])\n",
    "print(data_test.Autor[3337], \":\\t\\t\\t\",data_test.IdAutor[3337],\"\\t\",partition[data_test.IdAutor[3337]])\n",
    "print(data_test.Autor[3333], \":\\t\\t\\t\",data_test.IdAutor[3333],\"\\t\",partition[data_test.IdAutor[3333]])\n",
    "print(data_test.Autor[3208], \":\\t\\t\\t\",data_test.IdAutor[3208],\"\\t\",partition[data_test.IdAutor[3208]])\n",
    "\n",
    "#cluster_g2=[55907042000,6701357991,56269467900,57195075403,24438339000,54395290700,26428960200,57191727831,8662337700,12241561200,15521347000,57195065989,57205415253]\n",
    "print(\"\\nGrupo Paz:\\t\\t\\t Codigo\\t\\tGrupo\")\n",
    "print(data_test.Autor[3350], \":\\t\\t\\t\",data_test.IdAutor[3350],\"\\t\",partition[data_test.IdAutor[3350]])\n",
    "print(data_test.Autor[3353], \":\\t\\t\\t\",data_test.IdAutor[3353],\"\\t\",partition[data_test.IdAutor[3353]])\n",
    "print(data_test.Autor[3352], \":\\t\\t\\t\",data_test.IdAutor[3352],\"\\t\",partition[data_test.IdAutor[3352]])\n",
    "print(data_test.Autor[3349], \":\\t\\t\",data_test.IdAutor[3349],\"\\t\",partition[data_test.IdAutor[3349]])\n",
    "print(data_test.Autor[3361], \":\\t\\t\\t\",data_test.IdAutor[3361],\"\\t\",partition[data_test.IdAutor[3361]])\n",
    "print(data_test.Autor[3368], \":\\t\\t\\t\",data_test.IdAutor[3368],\"\\t\",partition[data_test.IdAutor[3368]])\n",
    "print(data_test.Autor[3371], \":\\t\\t\\t\",data_test.IdAutor[3371],\"\\t\",partition[data_test.IdAutor[3371]])\n",
    "print(data_test.Autor[3409], \":\\t\\t\\t\",data_test.IdAutor[3409],\"\\t\",partition[data_test.IdAutor[3409]])\n",
    "print(data_test.Autor[3398], \":\\t\\t\\t\",data_test.IdAutor[3398],\"\\t\",partition[data_test.IdAutor[3398]])\n",
    "print(data_test.Autor[3397], \":\\t\\t\\t\",data_test.IdAutor[3397],\"\\t\",partition[data_test.IdAutor[3397]])\n",
    "print(data_test.Autor[3379], \":\\t\\t\\t\",data_test.IdAutor[3379],\"\\t\",partition[data_test.IdAutor[3379]])\n",
    "print(data_test.Autor[3367], \":\\t\\t\\t\",data_test.IdAutor[3367],\"\\t\",partition[data_test.IdAutor[3367]])\n",
    "print(data_test.Autor[3351], \":\\t\\t\\t\",data_test.IdAutor[3351],\"\\t\",partition[data_test.IdAutor[3351]])\n",
    "\n",
    "#cluster_g3=[56938841200,57188634548,57204396567,57207208213,26423576100,57190567776,57184005800,56278907700,55602499700,54881238400,56369686000,55602717500,55602391500]\n",
    "print(\"\\nGrupo Oncevay:\\t\\t\\t Codigo\\t\\tGrupo\")\n",
    "print(data_test.Autor[3420], \":\\t\\t\",data_test.IdAutor[3420],\"\\t\",partition[data_test.IdAutor[3420]])\n",
    "print(data_test.Autor[3426], \":\\t\",data_test.IdAutor[3426],\"\\t\",partition[data_test.IdAutor[3426]])\n",
    "print(data_test.Autor[3419], \":\\t\",data_test.IdAutor[3419],\"\\t\",partition[data_test.IdAutor[3419]])\n",
    "print(data_test.Autor[3414], \":\\t\\t\",data_test.IdAutor[3414],\"\\t\",partition[data_test.IdAutor[3414]])\n",
    "print(data_test.Autor[3438], \":\\t\\t\\t\",data_test.IdAutor[3438],\"\\t\",partition[data_test.IdAutor[3438]])\n",
    "print(data_test.Autor[3413], \":\\t\\t\",data_test.IdAutor[3413],\"\\t\",partition[data_test.IdAutor[3413]])\n",
    "print(data_test.Autor[3415], \":\\t\\t\\t\",data_test.IdAutor[3415],\"\\t\",partition[data_test.IdAutor[3415]])\n",
    "print(data_test.Autor[3439], \":\\t\\t\",data_test.IdAutor[3439],\"\\t\",partition[data_test.IdAutor[3439]])\n",
    "print(data_test.Autor[3448], \":\\t\\t\",data_test.IdAutor[3448],\"\\t\",partition[data_test.IdAutor[3448]])\n",
    "print(data_test.Autor[3455], \":\\t\",data_test.IdAutor[3455],\"\\t\",partition[data_test.IdAutor[3455]])\n",
    "print(data_test.Autor[3456], \":\\t\",data_test.IdAutor[3456],\"\\t\",partition[data_test.IdAutor[3456]])\n",
    "print(data_test.Autor[3458], \":\\t\\t\",data_test.IdAutor[3458],\"\\t\",partition[data_test.IdAutor[3458]])\n",
    "print(data_test.Autor[3459], \":\\t\\t\",data_test.IdAutor[3459],\"\\t\",partition[data_test.IdAutor[3459]])\n"
   ]
  },
  {
   "cell_type": "code",
   "execution_count": 26,
   "metadata": {},
   "outputs": [
    {
     "data": {
      "text/plain": [
       "Counter({2985: 6, 2986: 3, 2987: 6, 2988: 2, 2992: 13, 2993: 8, 2994: 5})"
      ]
     },
     "execution_count": 26,
     "metadata": {},
     "output_type": "execute_result"
    }
   ],
   "source": [
    "cluster_g1=[36970459100,57192393631,57192388537,22033780200,6601930149,7005829745,15136810000,7101728993,25027558600,12039844300,56459046700,7103200005,8584012400,57200273045,36666915400,57192392373,37049755900]\n",
    "cluster_g2=[55907042000,6701357991,56269467900,57195075403,24438339000,54395290700,26428960200,57191727831,8662337700,12241561200,15521347000,57195065989,57205415253]\n",
    "cluster_g3=[56938841200,57188634548,57204396567,57207208213,26423576100,57190567776,57184005800,56278907700,55602499700,54881238400,56369686000,55602717500,55602391500]\n",
    "index_cluster_g1=[]\n",
    "for i in cluster_g1:\n",
    "    index_cluster_g1.append(find_group(i))\n",
    "    \n",
    "index_cluster_g2=[]\n",
    "for i in cluster_g2:\n",
    "    index_cluster_g2.append(find_group(i))\n",
    "    \n",
    "index_cluster_g3=[]\n",
    "for i in cluster_g3:\n",
    "    index_cluster_g3.append(find_group(i))\n",
    "index_cluster=index_cluster_g1+index_cluster_g2+index_cluster_g3\n",
    "clusters=Counter(index_cluster)\n",
    "clusters"
   ]
  },
  {
   "cell_type": "code",
   "execution_count": 27,
   "metadata": {},
   "outputs": [
    {
     "data": {
      "image/png": "[encoded data removed]",
      "text/plain": [
       "<matplotlib.figure.Figure at 0x11cfbb278>"
      ]
     },
     "metadata": {},
     "output_type": "display_data"
    }
   ],
   "source": [
    "pos = nx.spring_layout(G)\n",
    "count = 0.\n",
    "ind_color=0\n",
    "color=['red','blue','green','black','grey','yellow','purple','orange','skyblue']\n",
    "for lista in lista_cluster :\n",
    "    if count in clusters:\n",
    "        nx.draw_networkx_nodes(G, pos,lista, node_size = 50,\n",
    "                                node_color = color[ind_color])\n",
    "        ind_color+=1\n",
    "    else:\n",
    "        nx.draw_networkx_nodes(G, pos, lista, node_size = 20, node_color = str(count / size))\n",
    "    count = count + 1.\n",
    "\n",
    "nx.draw_networkx_edges(G, pos, alpha=1)\n",
    "plt.show()"
   ]
  },
  {
   "cell_type": "code",
   "execution_count": 32,
   "metadata": {},
   "outputs": [
    {
     "ename": "ValueError",
     "evalue": "c of shape (3482,) not acceptable as a color sequence for x with size 1, y with size 1",
     "output_type": "error",
     "traceback": [
      "\u001b[0;31m---------------------------------------------------------------------------\u001b[0m",
      "\u001b[0;31mKeyError\u001b[0m                                  Traceback (most recent call last)",
      "\u001b[0;32m~/anaconda3/lib/python3.6/site-packages/matplotlib/colors.py\u001b[0m in \u001b[0;36mto_rgba\u001b[0;34m(c, alpha)\u001b[0m\n\u001b[1;32m    131\u001b[0m     \u001b[0;32mtry\u001b[0m\u001b[0;34m:\u001b[0m\u001b[0;34m\u001b[0m\u001b[0m\n\u001b[0;32m--> 132\u001b[0;31m         \u001b[0mrgba\u001b[0m \u001b[0;34m=\u001b[0m \u001b[0m_colors_full_map\u001b[0m\u001b[0;34m.\u001b[0m\u001b[0mcache\u001b[0m\u001b[0;34m[\u001b[0m\u001b[0mc\u001b[0m\u001b[0;34m,\u001b[0m \u001b[0malpha\u001b[0m\u001b[0;34m]\u001b[0m\u001b[0;34m\u001b[0m\u001b[0m\n\u001b[0m\u001b[1;32m    133\u001b[0m     \u001b[0;32mexcept\u001b[0m \u001b[0;34m(\u001b[0m\u001b[0mKeyError\u001b[0m\u001b[0;34m,\u001b[0m \u001b[0mTypeError\u001b[0m\u001b[0;34m)\u001b[0m\u001b[0;34m:\u001b[0m  \u001b[0;31m# Not in cache, or unhashable.\u001b[0m\u001b[0;34m\u001b[0m\u001b[0m\n",
      "\u001b[0;31mKeyError\u001b[0m: (0.5091741153412023, None)",
      "\nDuring handling of the above exception, another exception occurred:\n",
      "\u001b[0;31mValueError\u001b[0m                                Traceback (most recent call last)",
      "\u001b[0;32m~/anaconda3/lib/python3.6/site-packages/matplotlib/axes/_axes.py\u001b[0m in \u001b[0;36mscatter\u001b[0;34m(self, x, y, s, c, marker, cmap, norm, vmin, vmax, alpha, linewidths, verts, edgecolors, **kwargs)\u001b[0m\n\u001b[1;32m   4049\u001b[0m                 \u001b[0;31m# must be acceptable as PathCollection facecolors\u001b[0m\u001b[0;34m\u001b[0m\u001b[0;34m\u001b[0m\u001b[0m\n\u001b[0;32m-> 4050\u001b[0;31m                 \u001b[0mcolors\u001b[0m \u001b[0;34m=\u001b[0m \u001b[0mmcolors\u001b[0m\u001b[0;34m.\u001b[0m\u001b[0mto_rgba_array\u001b[0m\u001b[0;34m(\u001b[0m\u001b[0mc\u001b[0m\u001b[0;34m)\u001b[0m\u001b[0;34m\u001b[0m\u001b[0m\n\u001b[0m\u001b[1;32m   4051\u001b[0m             \u001b[0;32mexcept\u001b[0m \u001b[0mValueError\u001b[0m\u001b[0;34m:\u001b[0m\u001b[0;34m\u001b[0m\u001b[0m\n",
      "\u001b[0;32m~/anaconda3/lib/python3.6/site-packages/matplotlib/colors.py\u001b[0m in \u001b[0;36mto_rgba_array\u001b[0;34m(c, alpha)\u001b[0m\n\u001b[1;32m    232\u001b[0m     \u001b[0;32mfor\u001b[0m \u001b[0mi\u001b[0m\u001b[0;34m,\u001b[0m \u001b[0mcc\u001b[0m \u001b[0;32min\u001b[0m \u001b[0menumerate\u001b[0m\u001b[0;34m(\u001b[0m\u001b[0mc\u001b[0m\u001b[0;34m)\u001b[0m\u001b[0;34m:\u001b[0m\u001b[0;34m\u001b[0m\u001b[0m\n\u001b[0;32m--> 233\u001b[0;31m         \u001b[0mresult\u001b[0m\u001b[0;34m[\u001b[0m\u001b[0mi\u001b[0m\u001b[0;34m]\u001b[0m \u001b[0;34m=\u001b[0m \u001b[0mto_rgba\u001b[0m\u001b[0;34m(\u001b[0m\u001b[0mcc\u001b[0m\u001b[0;34m,\u001b[0m \u001b[0malpha\u001b[0m\u001b[0;34m)\u001b[0m\u001b[0;34m\u001b[0m\u001b[0m\n\u001b[0m\u001b[1;32m    234\u001b[0m     \u001b[0;32mreturn\u001b[0m \u001b[0mresult\u001b[0m\u001b[0;34m\u001b[0m\u001b[0m\n",
      "\u001b[0;32m~/anaconda3/lib/python3.6/site-packages/matplotlib/colors.py\u001b[0m in \u001b[0;36mto_rgba\u001b[0;34m(c, alpha)\u001b[0m\n\u001b[1;32m    133\u001b[0m     \u001b[0;32mexcept\u001b[0m \u001b[0;34m(\u001b[0m\u001b[0mKeyError\u001b[0m\u001b[0;34m,\u001b[0m \u001b[0mTypeError\u001b[0m\u001b[0;34m)\u001b[0m\u001b[0;34m:\u001b[0m  \u001b[0;31m# Not in cache, or unhashable.\u001b[0m\u001b[0;34m\u001b[0m\u001b[0m\n\u001b[0;32m--> 134\u001b[0;31m         \u001b[0mrgba\u001b[0m \u001b[0;34m=\u001b[0m \u001b[0m_to_rgba_no_colorcycle\u001b[0m\u001b[0;34m(\u001b[0m\u001b[0mc\u001b[0m\u001b[0;34m,\u001b[0m \u001b[0malpha\u001b[0m\u001b[0;34m)\u001b[0m\u001b[0;34m\u001b[0m\u001b[0m\n\u001b[0m\u001b[1;32m    135\u001b[0m         \u001b[0;32mtry\u001b[0m\u001b[0;34m:\u001b[0m\u001b[0;34m\u001b[0m\u001b[0m\n",
      "\u001b[0;32m~/anaconda3/lib/python3.6/site-packages/matplotlib/colors.py\u001b[0m in \u001b[0;36m_to_rgba_no_colorcycle\u001b[0;34m(c, alpha)\u001b[0m\n\u001b[1;32m    184\u001b[0m         \u001b[0;31m# Test dimensionality to reject single floats.\u001b[0m\u001b[0;34m\u001b[0m\u001b[0;34m\u001b[0m\u001b[0m\n\u001b[0;32m--> 185\u001b[0;31m         \u001b[0;32mraise\u001b[0m \u001b[0mValueError\u001b[0m\u001b[0;34m(\u001b[0m\u001b[0;34m\"Invalid RGBA argument: {!r}\"\u001b[0m\u001b[0;34m.\u001b[0m\u001b[0mformat\u001b[0m\u001b[0;34m(\u001b[0m\u001b[0morig_c\u001b[0m\u001b[0;34m)\u001b[0m\u001b[0;34m)\u001b[0m\u001b[0;34m\u001b[0m\u001b[0m\n\u001b[0m\u001b[1;32m    186\u001b[0m     \u001b[0;31m# Return a tuple to prevent the cached value from being modified.\u001b[0m\u001b[0;34m\u001b[0m\u001b[0;34m\u001b[0m\u001b[0m\n",
      "\u001b[0;31mValueError\u001b[0m: Invalid RGBA argument: 0.5091741153412023",
      "\nDuring handling of the above exception, another exception occurred:\n",
      "\u001b[0;31mValueError\u001b[0m                                Traceback (most recent call last)",
      "\u001b[0;32m<ipython-input-32-671f98e36d65>\u001b[0m in \u001b[0;36m<module>\u001b[0;34m()\u001b[0m\n\u001b[1;32m     12\u001b[0m         \u001b[0mind_color\u001b[0m\u001b[0;34m+=\u001b[0m\u001b[0;36m1\u001b[0m\u001b[0;34m\u001b[0m\u001b[0m\n\u001b[1;32m     13\u001b[0m     \u001b[0;32melse\u001b[0m\u001b[0;34m:\u001b[0m\u001b[0;34m\u001b[0m\u001b[0m\n\u001b[0;32m---> 14\u001b[0;31m         \u001b[0mnx\u001b[0m\u001b[0;34m.\u001b[0m\u001b[0mdraw_networkx_nodes\u001b[0m\u001b[0;34m(\u001b[0m\u001b[0mG\u001b[0m\u001b[0;34m,\u001b[0m \u001b[0mpos\u001b[0m\u001b[0;34m,\u001b[0m \u001b[0mlista\u001b[0m\u001b[0;34m,\u001b[0m \u001b[0mnode_size\u001b[0m \u001b[0;34m=\u001b[0m \u001b[0;36m20\u001b[0m\u001b[0;34m,\u001b[0m \u001b[0mnode_color\u001b[0m \u001b[0;34m=\u001b[0m\u001b[0mcolors\u001b[0m\u001b[0;34m,\u001b[0m \u001b[0mcmap\u001b[0m\u001b[0;34m=\u001b[0m\u001b[0mplt\u001b[0m\u001b[0;34m.\u001b[0m\u001b[0mcm\u001b[0m\u001b[0;34m.\u001b[0m\u001b[0mBlues\u001b[0m\u001b[0;34m)\u001b[0m\u001b[0;34m\u001b[0m\u001b[0m\n\u001b[0m\u001b[1;32m     15\u001b[0m     \u001b[0mcount\u001b[0m \u001b[0;34m=\u001b[0m \u001b[0mcount\u001b[0m \u001b[0;34m+\u001b[0m \u001b[0;36m1\u001b[0m\u001b[0;34m\u001b[0m\u001b[0m\n\u001b[1;32m     16\u001b[0m \u001b[0;34m\u001b[0m\u001b[0m\n",
      "\u001b[0;32m~/anaconda3/lib/python3.6/site-packages/networkx/drawing/nx_pylab.py\u001b[0m in \u001b[0;36mdraw_networkx_nodes\u001b[0;34m(G, pos, nodelist, node_size, node_color, node_shape, alpha, cmap, vmin, vmax, ax, linewidths, label, **kwds)\u001b[0m\n\u001b[1;32m    398\u001b[0m                                  \u001b[0malpha\u001b[0m\u001b[0;34m=\u001b[0m\u001b[0malpha\u001b[0m\u001b[0;34m,\u001b[0m\u001b[0;34m\u001b[0m\u001b[0m\n\u001b[1;32m    399\u001b[0m                                  \u001b[0mlinewidths\u001b[0m\u001b[0;34m=\u001b[0m\u001b[0mlinewidths\u001b[0m\u001b[0;34m,\u001b[0m\u001b[0;34m\u001b[0m\u001b[0m\n\u001b[0;32m--> 400\u001b[0;31m                                  label=label)\n\u001b[0m\u001b[1;32m    401\u001b[0m \u001b[0;34m\u001b[0m\u001b[0m\n\u001b[1;32m    402\u001b[0m     \u001b[0mnode_collection\u001b[0m\u001b[0;34m.\u001b[0m\u001b[0mset_zorder\u001b[0m\u001b[0;34m(\u001b[0m\u001b[0;36m2\u001b[0m\u001b[0;34m)\u001b[0m\u001b[0;34m\u001b[0m\u001b[0m\n",
      "\u001b[0;32m~/anaconda3/lib/python3.6/site-packages/matplotlib/__init__.py\u001b[0m in \u001b[0;36minner\u001b[0;34m(ax, *args, **kwargs)\u001b[0m\n\u001b[1;32m   1708\u001b[0m                     warnings.warn(msg % (label_namer, func.__name__),\n\u001b[1;32m   1709\u001b[0m                                   RuntimeWarning, stacklevel=2)\n\u001b[0;32m-> 1710\u001b[0;31m             \u001b[0;32mreturn\u001b[0m \u001b[0mfunc\u001b[0m\u001b[0;34m(\u001b[0m\u001b[0max\u001b[0m\u001b[0;34m,\u001b[0m \u001b[0;34m*\u001b[0m\u001b[0margs\u001b[0m\u001b[0;34m,\u001b[0m \u001b[0;34m**\u001b[0m\u001b[0mkwargs\u001b[0m\u001b[0;34m)\u001b[0m\u001b[0;34m\u001b[0m\u001b[0m\n\u001b[0m\u001b[1;32m   1711\u001b[0m         \u001b[0mpre_doc\u001b[0m \u001b[0;34m=\u001b[0m \u001b[0minner\u001b[0m\u001b[0;34m.\u001b[0m\u001b[0m__doc__\u001b[0m\u001b[0;34m\u001b[0m\u001b[0m\n\u001b[1;32m   1712\u001b[0m         \u001b[0;32mif\u001b[0m \u001b[0mpre_doc\u001b[0m \u001b[0;32mis\u001b[0m \u001b[0;32mNone\u001b[0m\u001b[0;34m:\u001b[0m\u001b[0;34m\u001b[0m\u001b[0m\n",
      "\u001b[0;32m~/anaconda3/lib/python3.6/site-packages/matplotlib/axes/_axes.py\u001b[0m in \u001b[0;36mscatter\u001b[0;34m(self, x, y, s, c, marker, cmap, norm, vmin, vmax, alpha, linewidths, verts, edgecolors, **kwargs)\u001b[0m\n\u001b[1;32m   4053\u001b[0m                 msg = (\"c of shape {0} not acceptable as a color sequence \"\n\u001b[1;32m   4054\u001b[0m                        \"for x with size {1}, y with size {2}\")\n\u001b[0;32m-> 4055\u001b[0;31m                 \u001b[0;32mraise\u001b[0m \u001b[0mValueError\u001b[0m\u001b[0;34m(\u001b[0m\u001b[0mmsg\u001b[0m\u001b[0;34m.\u001b[0m\u001b[0mformat\u001b[0m\u001b[0;34m(\u001b[0m\u001b[0mc\u001b[0m\u001b[0;34m.\u001b[0m\u001b[0mshape\u001b[0m\u001b[0;34m,\u001b[0m \u001b[0mx\u001b[0m\u001b[0;34m.\u001b[0m\u001b[0msize\u001b[0m\u001b[0;34m,\u001b[0m \u001b[0my\u001b[0m\u001b[0;34m.\u001b[0m\u001b[0msize\u001b[0m\u001b[0;34m)\u001b[0m\u001b[0;34m)\u001b[0m\u001b[0;34m\u001b[0m\u001b[0m\n\u001b[0m\u001b[1;32m   4056\u001b[0m         \u001b[0;32melse\u001b[0m\u001b[0;34m:\u001b[0m\u001b[0;34m\u001b[0m\u001b[0m\n\u001b[1;32m   4057\u001b[0m             \u001b[0mcolors\u001b[0m \u001b[0;34m=\u001b[0m \u001b[0;32mNone\u001b[0m  \u001b[0;31m# use cmap, norm after collection is created\u001b[0m\u001b[0;34m\u001b[0m\u001b[0m\n",
      "\u001b[0;31mValueError\u001b[0m: c of shape (3482,) not acceptable as a color sequence for x with size 1, y with size 1"
     ]
    }
   ],
   "source": [
    "import numpy as np\n",
    "import matplotlib.pyplot as plt\n",
    "colors = np.random.rand(len(G))\n",
    "pos = nx.spring_layout(G)\n",
    "count = 0\n",
    "ind_color=0\n",
    "color=['red','blue','green','black','grey','yellow','purple','orange','skyblue']\n",
    "for lista in lista_cluster :\n",
    "    if count in clusters:\n",
    "        nx.draw_networkx_nodes(G, pos,lista, node_size = 50,\n",
    "                                node_color = color[ind_color])\n",
    "        ind_color+=1\n",
    "    else:\n",
    "        nx.draw_networkx_nodes(G, pos, lista, node_size = 20, node_color =colors, cmap=plt.cm.Blues)\n",
    "    count = count + 1\n",
    "\n",
    "nx.draw_networkx_edges(G, pos, alpha=1)\n",
    "plt.show()"
   ]
  },
  {
   "cell_type": "code",
   "execution_count": 30,
   "metadata": {},
   "outputs": [
    {
     "data": {
      "text/plain": [
       "array([0.11587022, 0.2322421 , 0.93740732, 0.72440606, 0.16679985])"
      ]
     },
     "execution_count": 30,
     "metadata": {},
     "output_type": "execute_result"
    }
   ],
   "source": [
    "import numpy as np\n",
    "import matplotlib.pyplot as plt\n",
    "colors = np.random.rand(5)\n",
    "colors"
   ]
  },
  {
   "cell_type": "code",
   "execution_count": 65,
   "metadata": {},
   "outputs": [
    {
     "data": {
      "image/png": "[encoded data removed]",
      "text/plain": [
       "<matplotlib.figure.Figure at 0x117e33f60>"
      ]
     },
     "metadata": {},
     "output_type": "display_data"
    }
   ],
   "source": [
    "# libraries\n",
    "import pandas as pd\n",
    "import numpy as np\n",
    "import networkx as nx\n",
    "import matplotlib.pyplot as plt\n",
    " \n",
    "# Build a dataframe with your connections\n",
    "df = pd.DataFrame({ 'from':['A', 'B', 'C','A'], 'to':['D', 'A', 'E','C']})\n",
    " \n",
    "# And a data frame with characteristics for your nodes\n",
    "carac = pd.DataFrame({ 'ID':['A', 'B', 'C','D','E'], 'myvalue':['123','25','76','12','34'] })\n",
    " \n",
    "# Build your graph\n",
    "G=nx.from_pandas_dataframe(df, 'from', 'to', create_using=nx.Graph() )\n",
    " \n",
    "# The order of the node for networkX is the following order:\n",
    "G.nodes()\n",
    "# Thus, we cannot give directly the 'myvalue' column to netowrkX, we need to arrange the order!\n",
    " \n",
    "# Here is the tricky part: I need to reorder carac, to assign the good color to each node\n",
    "carac= carac.set_index('ID')\n",
    "carac=carac.reindex(G.nodes())\n",
    " \n",
    "# Plot it, providing a continuous color scale with cmap:\n",
    "nx.draw(G, with_labels=True, node_color=carac['myvalue'], cmap=plt.cm.Blues)\n",
    "plt.show()"
   ]
  },
  {
   "cell_type": "code",
   "execution_count": 54,
   "metadata": {},
   "outputs": [
    {
     "data": {
      "text/html": [
       "<div>\n",
       "<style>\n",
       "    .dataframe thead tr:only-child th {\n",
       "        text-align: right;\n",
       "    }\n",
       "\n",
       "    .dataframe thead th {\n",
       "        text-align: left;\n",
       "    }\n",
       "\n",
       "    .dataframe tbody tr th {\n",
       "        vertical-align: top;\n",
       "    }\n",
       "</style>\n",
       "<table border=\"1\" class=\"dataframe\">\n",
       "  <thead>\n",
       "    <tr style=\"text-align: right;\">\n",
       "      <th></th>\n",
       "      <th>myvalue</th>\n",
       "    </tr>\n",
       "    <tr>\n",
       "      <th>ID</th>\n",
       "      <th></th>\n",
       "    </tr>\n",
       "  </thead>\n",
       "  <tbody>\n",
       "    <tr>\n",
       "      <th>A</th>\n",
       "      <td>group1</td>\n",
       "    </tr>\n",
       "    <tr>\n",
       "      <th>D</th>\n",
       "      <td>group3</td>\n",
       "    </tr>\n",
       "    <tr>\n",
       "      <th>B</th>\n",
       "      <td>group1</td>\n",
       "    </tr>\n",
       "    <tr>\n",
       "      <th>C</th>\n",
       "      <td>group2</td>\n",
       "    </tr>\n",
       "    <tr>\n",
       "      <th>E</th>\n",
       "      <td>group3</td>\n",
       "    </tr>\n",
       "  </tbody>\n",
       "</table>\n",
       "</div>"
      ],
      "text/plain": [
       "   myvalue\n",
       "ID        \n",
       "A   group1\n",
       "D   group3\n",
       "B   group1\n",
       "C   group2\n",
       "E   group3"
      ]
     },
     "execution_count": 54,
     "metadata": {},
     "output_type": "execute_result"
    }
   ],
   "source": [
    "carac=carac.reindex(G.nodes())\n",
    "carac"
   ]
  },
  {
   "cell_type": "code",
   "execution_count": 66,
   "metadata": {},
   "outputs": [
    {
     "data": {
      "image/png": "[encoded data removed]",
      "text/plain": [
       "<matplotlib.figure.Figure at 0x117dfd128>"
      ]
     },
     "metadata": {},
     "output_type": "display_data"
    }
   ],
   "source": [
    "import pandas as pd\n",
    "import numpy as np\n",
    "import networkx as nx\n",
    "import matplotlib.pyplot as plt\n",
    " \n",
    "# Build a dataframe with your connections\n",
    "df = pd.DataFrame({ 'from':['A', 'B', 'C','A'], 'to':['D', 'A', 'E','C']})\n",
    " \n",
    "# And a data frame with characteristics for your nodes\n",
    "carac = pd.DataFrame({ 'ID':['A', 'B', 'C','D','E'], 'myvalue':['group1','group1','group2','group3','group3'] })\n",
    " \n",
    "# Build your graph\n",
    "G=nx.from_pandas_dataframe(df, 'from', 'to', create_using=nx.Graph() )\n",
    " \n",
    "# The order of the node for networkX is the following order:\n",
    "G.nodes()\n",
    "# Thus, we cannot give directly the 'myvalue' column to netowrkX, we need to arrange the order!\n",
    " \n",
    "# Here is the tricky part: I need to reorder carac to assign the good color to each node\n",
    "carac= carac.set_index('ID')\n",
    "carac= carac.reindex(G.nodes())\n",
    " \n",
    "# And I need to transform my categorical column in a numerical value: group1->1, group2->2...\n",
    "carac['myvalue']=pd.Categorical(carac['myvalue'])\n",
    "carac['myvalue'].cat.codes\n",
    " \n",
    "# Custom the nodes:\n",
    "nx.draw(G, with_labels=True, node_color=carac['myvalue'].cat.codes, cmap=plt.cm.Set1, node_size=1500)\n",
    "plt.show()"
   ]
  },
  {
   "cell_type": "code",
   "execution_count": 63,
   "metadata": {},
   "outputs": [],
   "source": [
    "import pickle\n",
    "pickle.dump(lista_cluster, open('lista_dv_tipo1_cantpub.pkl','wb'))"
   ]
  },
  {
   "cell_type": "code",
   "execution_count": 105,
   "metadata": {
    "collapsed": true
   },
   "outputs": [],
   "source": [
    "prueba = pickle.load(open('lista_dv_tipo2_cantpub.pkl','rb'))"
   ]
  },
  {
   "cell_type": "code",
   "execution_count": 45,
   "metadata": {
    "collapsed": true
   },
   "outputs": [],
   "source": [
    "def find_index (cod):\n",
    "    ind=0\n",
    "    for a in autor:\n",
    "        if cod== a:\n",
    "            break\n",
    "        ind+=1\n",
    "    return ind"
   ]
  },
  {
   "cell_type": "code",
   "execution_count": 101,
   "metadata": {
    "collapsed": true
   },
   "outputs": [],
   "source": [
    "#Funcion de extracción de nombre y cluster donde se encuentra\n",
    "def find_group (cod):\n",
    "    indice=0\n",
    "    for lista in prueba:\n",
    "        for item in lista:\n",
    "            if cod== item:\n",
    "                return indice\n",
    "        indice+=1"
   ]
  },
  {
   "cell_type": "code",
   "execution_count": 47,
   "metadata": {
    "collapsed": true
   },
   "outputs": [],
   "source": [
    "def find_peso(cod1,cod2):\n",
    "    lista_cantidad=Counter(coautores[find_index(cod1)])\n",
    "    return lista_cantidad[cod2]"
   ]
  },
  {
   "cell_type": "code",
   "execution_count": 20,
   "metadata": {},
   "outputs": [
    {
     "data": {
      "text/plain": [
       "2"
      ]
     },
     "execution_count": 20,
     "metadata": {},
     "output_type": "execute_result"
    }
   ],
   "source": [
    "a=find_peso(15136810000,36970459100)\n",
    "a"
   ]
  },
  {
   "cell_type": "code",
   "execution_count": 323,
   "metadata": {},
   "outputs": [
    {
     "ename": "SyntaxError",
     "evalue": "invalid syntax (<ipython-input-323-c5b02976c439>, line 1)",
     "output_type": "error",
     "traceback": [
      "\u001b[0;36m  File \u001b[0;32m\"<ipython-input-323-c5b02976c439>\"\u001b[0;36m, line \u001b[0;32m1\u001b[0m\n\u001b[0;31m    Oncevay-Marcos A. :\t\t 56938841200 \t 2993\u001b[0m\n\u001b[0m                   ^\u001b[0m\n\u001b[0;31mSyntaxError\u001b[0m\u001b[0;31m:\u001b[0m invalid syntax\n"
     ]
    }
   ],
   "source": [
    "Oncevay-Marcos A. :\t\t 56938841200 \t 2993\n",
    " Sobrevilla-Cabezudo M. :\t 57188634548 \t 2993\n",
    "Sobrevilla-Cabezudo M.A. :\t 57204396567 \t 2993\n",
    " Mejía Lara J.V. :\t\t 57207208213 \t 2993\n",
    " Beppler F.D. :\t\t\t 26423576100 \t 2993\n",
    "Arias Velásquez R.M. :\t\t 57190567776 \t 2993\n",
    " Melgar A. :\t\t\t 57184005800 \t 2993\n",
    " Pacheco R.C.S. :\t\t 56278907700 \t 2993\n",
    " Beltráón-Castañn C. :\t\t 55602499700 \t 2994\n",
    "Portugal-Zambrano C.E. :\t 54881238400 \t 2994\n",
    " Gutierrez-Caceres J.C. :\t 56369686000 \t 2994\n",
    "Flores-Quispe R. :\t\t 55602717500 \t 2994\n",
    " Velazco-Paredes Y. :\t\t 55602391500 \t 2994"
   ]
  },
  {
   "cell_type": "code",
   "execution_count": 30,
   "metadata": {},
   "outputs": [
    {
     "name": "stdout",
     "output_type": "stream",
     "text": [
      "12\n",
      "Alatrista-Salas H. \t 12 \t 36970459100\n",
      " Morzán-Samamé J. \t 1 \t 57207793166\n",
      " Nunez-del-Prado M. \t 4 \t 57192393631\n",
      " Hidalgo-Leon P. \t 1 \t 57205581349\n",
      " Esposito B. \t 1 \t 57200273045\n",
      " Valdivieso M. \t 1 \t 57203089930\n",
      "Núñez-Del-Prado-Cortez M. \t 1 \t 57192388537\n",
      " Bringay S. \t 2 \t 22033780200\n",
      " Flouvat F. \t 1 \t 14015692300\n",
      " Selmaoui-Folcher N. \t 2 \t 15057005700\n",
      " Teisseire M. \t 4 \t 6601930149\n",
      " Azé J. \t 1 \t 8584012400\n",
      " Cernesson F. \t 1 \t 55404572700\n",
      "Guevara-Cogorno A. \t 1 \t 57053324800\n",
      " Flamand C. \t 1 \t 25623130000\n",
      "Kergosien E. \t 2 \t 55625321100\n",
      " Gaio M. \t 1 \t 23097086000\n",
      " Güttler F.N. \t 1 \t 55889743100\n",
      " Roche M. \t 2 \t 15136810000\n",
      "Siret-Alatrista A. \t 1 \t 36912117400\n",
      " Pur Ozyigit L. \t 1 \t 26535048900\n",
      " Rubio M. \t 1 \t 57196846182\n",
      " Demoly M. \t 1 \t 6503919635\n",
      " Bousquet P.-J. \t 1 \t 10439555400\n",
      " Demoly P. \t 1 \t 7103273891\n"
     ]
    }
   ],
   "source": [
    "#Buscar la cant pub del codigo y sus coautores(nombre, peso, codigo)\n",
    "n=36970459100\n",
    "peso_coautor=Counter(coautores[find_index(n)])\n",
    "print(data_test.CantidadPub[find_index(n)])\n",
    "for i in peso_coautor:\n",
    "    print(data_test.Autor[find_index(i)],\"\\t\", peso_coautor[i],\"\\t\",data_test.IdAutor[find_index(i)])"
   ]
  },
  {
   "cell_type": "code",
   "execution_count": 147,
   "metadata": {},
   "outputs": [
    {
     "name": "stdout",
     "output_type": "stream",
     "text": [
      "1 :\n",
      " Wang S.\n"
     ]
    }
   ],
   "source": [
    "#Mostrar los pertenecientes al grupo\n",
    "g=find_group(57204572948)\n",
    "print(len(lista_cluster[g]),\":\")\n",
    "for i in lista_cluster[g]:\n",
    "    print(data_test.Autor[find_index(i)])\n",
    "    "
   ]
  }
 ],
 "metadata": {
  "kernelspec": {
   "display_name": "Python 3",
   "language": "python",
   "name": "python3"
  },
  "language_info": {
   "codemirror_mode": {
    "name": "ipython",
    "version": 3
   },
   "file_extension": ".py",
   "mimetype": "text/x-python",
   "name": "python",
   "nbconvert_exporter": "python",
   "pygments_lexer": "ipython3",
   "version": "3.6.3"
  }
 },
 "nbformat": 4,
 "nbformat_minor": 2
}
