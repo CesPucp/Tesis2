{
 "cells": [
  {
   "cell_type": "code",
   "execution_count": 1,
   "metadata": {
    "collapsed": true
   },
   "outputs": [],
   "source": [
    "#Importar en csv Test 2%\n",
    "import pandas as pd\n",
    "data_test=pd.read_csv('DataTest2%.csv')"
   ]
  },
  {
   "cell_type": "code",
   "execution_count": 2,
   "metadata": {
    "collapsed": true
   },
   "outputs": [],
   "source": [
    "coautores=[]\n",
    "#########################\n",
    "coautor=data_test.Coautor\n",
    "#########################\n",
    "coautor.reset_index(drop=True, inplace=True)\n",
    "for r in coautor:\n",
    "    sep= r.split(',')\n",
    "    m= len(sep)\n",
    "    aux=[]\n",
    "    for i in range(0,m):\n",
    "        if i==m-1:\n",
    "            aux.append(int(sep[i][2:-2]))\n",
    "        else:\n",
    "            aux.append(int(sep[i][2:-1]))\n",
    "    coautores.append(aux)"
   ]
  },
  {
   "cell_type": "code",
   "execution_count": 3,
   "metadata": {},
   "outputs": [
    {
     "data": {
      "text/plain": [
       "3151"
      ]
     },
     "execution_count": 3,
     "metadata": {},
     "output_type": "execute_result"
    }
   ],
   "source": [
    "len(coautores)"
   ]
  },
  {
   "cell_type": "code",
   "execution_count": 4,
   "metadata": {},
   "outputs": [
    {
     "data": {
      "text/plain": [
       "3151"
      ]
     },
     "execution_count": 4,
     "metadata": {},
     "output_type": "execute_result"
    }
   ],
   "source": [
    "#Leer los abstracts del data test\n",
    "#abstract\n",
    "ab=[]\n",
    "############################\n",
    "abstract=data_test.Abstract\n",
    "############################\n",
    "abstract.reset_index(drop=True, inplace=True)\n",
    "\n",
    "for r in abstract:\n",
    "    sep= r.split(',')\n",
    "    m= len(sep)\n",
    "    aux=[]\n",
    "    for i in range(0,m):\n",
    "        if i==m-1:\n",
    "            aux.append(sep[i][2:-2])\n",
    "        else:\n",
    "            aux.append(sep[i][2:-1])\n",
    "    ab.append(aux)\n",
    "len(ab)"
   ]
  },
  {
   "cell_type": "code",
   "execution_count": 6,
   "metadata": {},
   "outputs": [
    {
     "data": {
      "text/plain": [
       "3151"
      ]
     },
     "execution_count": 6,
     "metadata": {},
     "output_type": "execute_result"
    }
   ],
   "source": [
    "abst=[]\n",
    "for r in ab:\n",
    "    #print(r)\n",
    "    aux=' '.join(r)\n",
    "    abst.append(aux)\n",
    "len(abst)"
   ]
  },
  {
   "cell_type": "code",
   "execution_count": 7,
   "metadata": {},
   "outputs": [
    {
     "data": {
      "text/plain": [
       "'fluctuations glacier mass volume indicative changes climate system also strongly affect regional climate hydrology explore possible relationships radial growth schrenk spruce picea schrenkiana fisch et mey mass balance tsentralniy tuyuksuyskiy ts tuyuksuyskiy glacier located northern slopes tianshan mountains arid central asia attempt reconstruct historical mass balance variability ts tuyuksuyskiy glacier using tree-ring widths stable carbon isotope chronologies reconstruction able explain 62.1 variance annual glacier mass balance record 1965–2014 calibration period also analyzed centennial mass balance variability linkages climate change ts.tuyuksuyskiy glacier negative annual mass balance years since 1968 undergone rapid longest melting process past 166 years mass balance change glacier controlled combination temperature precipitation conditions study could useful detailed glaciological hydrological climatological assessments portion tianshan mountains 2018 authors'"
      ]
     },
     "execution_count": 7,
     "metadata": {},
     "output_type": "execute_result"
    }
   ],
   "source": [
    "abst[0]"
   ]
  },
  {
   "cell_type": "code",
   "execution_count": 8,
   "metadata": {
    "collapsed": true
   },
   "outputs": [],
   "source": [
    "#Generar vector de palabras:\n",
    "import gensim\n",
    "import collections\n",
    "from gensim.models.doc2vec import Doc2Vec, TaggedDocument\n",
    "from gensim.test.utils import get_tmpfile\n",
    "tagged_documents = []\n",
    "index = 0\n",
    "for new in abst:\n",
    "    tagged_documents.append(TaggedDocument(new, [index]))\n",
    "    index += 1\n"
   ]
  },
  {
   "cell_type": "code",
   "execution_count": 10,
   "metadata": {},
   "outputs": [
    {
     "data": {
      "text/plain": [
       "TaggedDocument(words='streptococcus mutans primary etiological agent human dental caries major virulence factors glucosyltransferases gtfs utilize sucrose synthesize extracellular polysaccharides eps leading formation dental plaque biofilm current study designed develop novel self-targeting gene editing technology targeted gtfs inhibit biofilms formation crispr-cas system ie clustered regularly interspaced short palindromic repeat crispr-associated proteins provides sequence-specific protection foreign genetic materials archaea bacteria widely developed genomic engineering first study test whether components crispr-cas9 system mutans ua159 necessary defend foreign dna data showed suitable pam site tracrrna cas9 rnase iii indispensable elements perform normal function mutans crispr-cas9 system based results designed self-targeting crispr arrays containing spacer sequences identifying gtfb cloned onto plasmids afterward transformed plasmids editing templates ua159 self-targeting acquire desired mutants data showed technology performed well able successfully edit gtfb gtfbgtfc genes resulted high reduction eps synthesis able breakdown biofilm formation also promising tool dental clinics order prevent formation mutans biofilms future 2018 john wiley sons a/s published john wiley sons ltd', tags=[1])"
      ]
     },
     "execution_count": 10,
     "metadata": {},
     "output_type": "execute_result"
    }
   ],
   "source": [
    "tagged_documents[1]"
   ]
  },
  {
   "cell_type": "code",
   "execution_count": 11,
   "metadata": {
    "collapsed": true
   },
   "outputs": [],
   "source": [
    "#Cargar el modelo de wikipedia\n",
    "#print(\"empieza cargar el modelo\")\n",
    "model_wiki = Doc2Vec.load(\"enwiki_doc2vec\")"
   ]
  },
  {
   "cell_type": "code",
   "execution_count": 13,
   "metadata": {},
   "outputs": [
    {
     "name": "stdout",
     "output_type": "stream",
     "text": [
      "3151\n"
     ]
    }
   ],
   "source": [
    "index=0\n",
    "lista_vector=[]\n",
    "for tag in tagged_documents:\n",
    "    aux=model_wiki.infer_vector(abst[index])\n",
    "    lista_vector.append(aux)\n",
    "    #print (index)\n",
    "    index+=1\n",
    "print(index)"
   ]
  },
  {
   "cell_type": "code",
   "execution_count": 15,
   "metadata": {},
   "outputs": [
    {
     "data": {
      "text/plain": [
       "3151"
      ]
     },
     "execution_count": 15,
     "metadata": {},
     "output_type": "execute_result"
    }
   ],
   "source": [
    "len(lista_vector)"
   ]
  },
  {
   "cell_type": "code",
   "execution_count": 48,
   "metadata": {},
   "outputs": [
    {
     "name": "stdout",
     "output_type": "stream",
     "text": [
      "100\n",
      "200\n",
      "300\n",
      "400\n",
      "500\n",
      "600\n",
      "700\n",
      "800\n",
      "900\n",
      "1000\n",
      "1100\n",
      "1200\n",
      "1300\n",
      "1400\n",
      "1500\n",
      "1600\n",
      "1700\n",
      "1800\n",
      "1900\n",
      "2000\n",
      "2100\n",
      "2200\n",
      "2300\n",
      "2400\n",
      "2500\n",
      "2600\n",
      "2700\n",
      "2800\n",
      "2900\n",
      "3000\n",
      "3100\n"
     ]
    }
   ],
   "source": [
    "import community\n",
    "import networkx as nx\n",
    "import matplotlib.pyplot as plt\n",
    "from collections import Counter\n",
    "from sklearn.metrics.pairwise import cosine_similarity\n",
    "#Creación de grafo con peso de titulo\n",
    "g_abs=nx.Graph()\n",
    "ind=0\n",
    "###############################\n",
    "autor=data_test.IdAutor\n",
    "###############################\n",
    "autor.reset_index(drop=True, inplace=True)\n",
    "pesos=[]\n",
    "for node in autor:\n",
    "    g_abs.add_node(node)\n",
    "\n",
    "for edge in coautores:\n",
    "    counter=Counter(edge)\n",
    "    #dist=levenshteinDistance()\n",
    "    for elem in counter:\n",
    "        encontrado=0\n",
    "        if elem == autor[ind]:\n",
    "            encontrado=0\n",
    "        else:\n",
    "            for a in autor:\n",
    "                if elem== a:\n",
    "                    encontrado=1\n",
    "        if encontrado:\n",
    "            n=0\n",
    "            for item in autor:\n",
    "                if (item==elem):\n",
    "                    indice=n\n",
    "                    break\n",
    "                n+=1\n",
    "            dist=cosine_similarity([lista_vector[ind]],[lista_vector[indice]])\n",
    "            #dist=levenshteinDistance(abst[ind],abst[indice])\n",
    "            #Normalizando\n",
    "            peso=2 - dist[0][0]\n",
    "            #peso=dist[0][0]\n",
    "            pesos.append(peso)\n",
    "            g_abs.add_edge(autor[ind], elem, weight=peso)\n",
    "    ind+=1\n",
    "    if (ind%100)==0: print (ind)"
   ]
  },
  {
   "cell_type": "code",
   "execution_count": 49,
   "metadata": {},
   "outputs": [],
   "source": [
    "index=0\n",
    "lista_minor=[]\n",
    "for peso in pesos:\n",
    "    if peso<0:\n",
    "        lista_minor.append([index,peso])\n",
    "    index+=1\n",
    "        \n",
    "        "
   ]
  },
  {
   "cell_type": "code",
   "execution_count": 50,
   "metadata": {},
   "outputs": [
    {
     "data": {
      "text/plain": [
       "0"
      ]
     },
     "execution_count": 50,
     "metadata": {},
     "output_type": "execute_result"
    }
   ],
   "source": [
    "len(lista_minor)"
   ]
  },
  {
   "cell_type": "code",
   "execution_count": 51,
   "metadata": {},
   "outputs": [
    {
     "name": "stdout",
     "output_type": "stream",
     "text": [
      "Name: \n",
      "Type: Graph\n",
      "Number of nodes: 3151\n",
      "Number of edges: 172\n",
      "Average degree:   0.1092\n"
     ]
    }
   ],
   "source": [
    "print (nx.info(g_abs))"
   ]
  },
  {
   "cell_type": "code",
   "execution_count": 52,
   "metadata": {},
   "outputs": [
    {
     "name": "stdout",
     "output_type": "stream",
     "text": [
      "2985.0\n",
      "0.9916078580748396\n"
     ]
    },
    {
     "data": {
      "image/png": "[encoded data removed]",
      "text/plain": [
       "<matplotlib.figure.Figure at 0x129d5a978>"
      ]
     },
     "metadata": {},
     "output_type": "display_data"
    }
   ],
   "source": [
    "import community\n",
    "import networkx as nx\n",
    "import matplotlib.pyplot as plt\n",
    "\n",
    "G=g_abs\n",
    "#first compute the best partition\n",
    "partition = community.best_partition(G,weight='weight')\n",
    "mod_tittle=community.modularity(partition,G)\n",
    "#drawing\n",
    "size = float(len(set(partition.values())))\n",
    "print(size)\n",
    "print(mod_tittle)\n",
    "pos = nx.spring_layout(G)\n",
    "count = 0.\n",
    "for com in set(partition.values()) :\n",
    "    count = count + 1.\n",
    "    list_nodes = [nodes for nodes in partition.keys()\n",
    "                                if partition[nodes] == com]\n",
    "    nx.draw_networkx_nodes(G, pos, list_nodes, node_size = 20,\n",
    "                                node_color = str(count / size))\n",
    "\n",
    "\n",
    "nx.draw_networkx_edges(G, pos, alpha=0.5)\n",
    "plt.show()"
   ]
  },
  {
   "cell_type": "code",
   "execution_count": 17,
   "metadata": {},
   "outputs": [],
   "source": [
    "from collections import Counter\n",
    "e=[1,2,3,4,5,4]\n",
    "c=Counter(e)"
   ]
  },
  {
   "cell_type": "code",
   "execution_count": 25,
   "metadata": {},
   "outputs": [
    {
     "name": "stdout",
     "output_type": "stream",
     "text": [
      "2\n",
      "3\n",
      "4\n",
      "5\n",
      "6\n"
     ]
    }
   ],
   "source": [
    "for i in c:\n",
    "    print(i+1)"
   ]
  }
 ],
 "metadata": {
  "kernelspec": {
   "display_name": "Python 3",
   "language": "python",
   "name": "python3"
  },
  "language_info": {
   "codemirror_mode": {
    "name": "ipython",
    "version": 3
   },
   "file_extension": ".py",
   "mimetype": "text/x-python",
   "name": "python",
   "nbconvert_exporter": "python",
   "pygments_lexer": "ipython3",
   "version": "3.6.3"
  }
 },
 "nbformat": 4,
 "nbformat_minor": 2
}
